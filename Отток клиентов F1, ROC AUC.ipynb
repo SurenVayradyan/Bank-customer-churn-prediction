
  {
   "cell_type": "code",
   "execution_count": 3,
   "metadata": {},
   "outputs": [],
   "source": [
    "import pandas as pd\n",
    "import matplotlib.pyplot as plt\n",
    "import seaborn as sns\n",
    "\n",
    "import phik\n",
    "from phik.report import plot_correlation_matrix\n",
    "from phik import report\n",
    "from sklearn.utils import shuffle\n",
    "\n",
    "from fast_ml.model_development import train_valid_test_split\n",
    "from sklearn.metrics import f1_score, roc_auc_score\n",
    "from sklearn.preprocessing import StandardScaler\n",
    "from sklearn.preprocessing import OneHotEncoder\n",
    "\n",
    "from sklearn.ensemble import RandomForestClassifier\n",
    "from sklearn.tree import DecisionTreeClassifier\n",
    "from sklearn.linear_model import LogisticRegression"
   ]
  },
  {
   "cell_type": "markdown",
   "metadata": {},
   "source": [
    "## Подготовка данных"
   ]
  },
  {
   "cell_type": "code",
   "execution_count": 4,
   "metadata": {},
   "outputs": [
    {
     "data": {
      "text/html": [
       "<div>\n",
       "<style scoped>\n",
       "    .dataframe tbody tr th:only-of-type {\n",
       "        vertical-align: middle;\n",
       "    }\n",
       "\n",
       "    .dataframe tbody tr th {\n",
       "        vertical-align: top;\n",
       "    }\n",
       "\n",
       "    .dataframe thead th {\n",
       "        text-align: right;\n",
       "    }\n",
       "</style>\n",
       "<table border=\"1\" class=\"dataframe\">\n",
       "  <thead>\n",
       "    <tr style=\"text-align: right;\">\n",
       "      <th></th>\n",
       "      <th>RowNumber</th>\n",
       "      <th>CustomerId</th>\n",
       "      <th>Surname</th>\n",
       "      <th>CreditScore</th>\n",
       "      <th>Geography</th>\n",
       "      <th>Gender</th>\n",
       "      <th>Age</th>\n",
       "      <th>Tenure</th>\n",
       "      <th>Balance</th>\n",
       "      <th>NumOfProducts</th>\n",
       "      <th>HasCrCard</th>\n",
       "      <th>IsActiveMember</th>\n",
       "      <th>EstimatedSalary</th>\n",
       "      <th>Exited</th>\n",
       "    </tr>\n",
       "  </thead>\n",
       "  <tbody>\n",
       "    <tr>\n",
       "      <th>0</th>\n",
       "      <td>1</td>\n",
       "      <td>15634602</td>\n",
       "      <td>Hargrave</td>\n",
       "      <td>619</td>\n",
       "      <td>France</td>\n",
       "      <td>Female</td>\n",
       "      <td>42</td>\n",
       "      <td>2.0</td>\n",
       "      <td>0.00</td>\n",
       "      <td>1</td>\n",
       "      <td>1</td>\n",
       "      <td>1</td>\n",
       "      <td>101348.88</td>\n",
       "      <td>1</td>\n",
       "    </tr>\n",
       "    <tr>\n",
       "      <th>1</th>\n",
       "      <td>2</td>\n",
       "      <td>15647311</td>\n",
       "      <td>Hill</td>\n",
       "      <td>608</td>\n",
       "      <td>Spain</td>\n",
       "      <td>Female</td>\n",
       "      <td>41</td>\n",
       "      <td>1.0</td>\n",
       "      <td>83807.86</td>\n",
       "      <td>1</td>\n",
       "      <td>0</td>\n",
       "      <td>1</td>\n",
       "      <td>112542.58</td>\n",
       "      <td>0</td>\n",
       "    </tr>\n",
       "    <tr>\n",
       "      <th>2</th>\n",
       "      <td>3</td>\n",
       "      <td>15619304</td>\n",
       "      <td>Onio</td>\n",
       "      <td>502</td>\n",
       "      <td>France</td>\n",
       "      <td>Female</td>\n",
       "      <td>42</td>\n",
       "      <td>8.0</td>\n",
       "      <td>159660.80</td>\n",
       "      <td>3</td>\n",
       "      <td>1</td>\n",
       "      <td>0</td>\n",
       "      <td>113931.57</td>\n",
       "      <td>1</td>\n",
       "    </tr>\n",
       "    <tr>\n",
       "      <th>3</th>\n",
       "      <td>4</td>\n",
       "      <td>15701354</td>\n",
       "      <td>Boni</td>\n",
       "      <td>699</td>\n",
       "      <td>France</td>\n",
       "      <td>Female</td>\n",
       "      <td>39</td>\n",
       "      <td>1.0</td>\n",
       "      <td>0.00</td>\n",
       "      <td>2</td>\n",
       "      <td>0</td>\n",
       "      <td>0</td>\n",
       "      <td>93826.63</td>\n",
       "      <td>0</td>\n",
       "    </tr>\n",
       "    <tr>\n",
       "      <th>4</th>\n",
       "      <td>5</td>\n",
       "      <td>15737888</td>\n",
       "      <td>Mitchell</td>\n",
       "      <td>850</td>\n",
       "      <td>Spain</td>\n",
       "      <td>Female</td>\n",
       "      <td>43</td>\n",
       "      <td>2.0</td>\n",
       "      <td>125510.82</td>\n",
       "      <td>1</td>\n",
       "      <td>1</td>\n",
       "      <td>1</td>\n",
       "      <td>79084.10</td>\n",
       "      <td>0</td>\n",
       "    </tr>\n",
       "  </tbody>\n",
       "</table>\n",
       "</div>"
      ],
      "text/plain": [
       "   RowNumber  CustomerId   Surname  CreditScore Geography  Gender  Age  \\\n",
       "0          1    15634602  Hargrave          619    France  Female   42   \n",
       "1          2    15647311      Hill          608     Spain  Female   41   \n",
       "2          3    15619304      Onio          502    France  Female   42   \n",
       "3          4    15701354      Boni          699    France  Female   39   \n",
       "4          5    15737888  Mitchell          850     Spain  Female   43   \n",
       "\n",
       "   Tenure    Balance  NumOfProducts  HasCrCard  IsActiveMember  \\\n",
       "0     2.0       0.00              1          1               1   \n",
       "1     1.0   83807.86              1          0               1   \n",
       "2     8.0  159660.80              3          1               0   \n",
       "3     1.0       0.00              2          0               0   \n",
       "4     2.0  125510.82              1          1               1   \n",
       "\n",
       "   EstimatedSalary  Exited  \n",
       "0        101348.88       1  \n",
       "1        112542.58       0  \n",
       "2        113931.57       1  \n",
       "3         93826.63       0  \n",
       "4         79084.10       0  "
      ]
     },
     "execution_count": 4,
     "metadata": {},
     "output_type": "execute_result"
    }
   ],
   "source": [
    "df = pd.read_csv('/datasets/Churn.csv'); df.head(5)"
   ]
  },
  {
   "cell_type": "code",
   "execution_count": 5,
   "metadata": {},
   "outputs": [
    {
     "data": {
      "text/html": [
       "<div>\n",
       "<style scoped>\n",
       "    .dataframe tbody tr th:only-of-type {\n",
       "        vertical-align: middle;\n",
       "    }\n",
       "\n",
       "    .dataframe tbody tr th {\n",
       "        vertical-align: top;\n",
       "    }\n",
       "\n",
       "    .dataframe thead th {\n",
       "        text-align: right;\n",
       "    }\n",
       "</style>\n",
       "<table border=\"1\" class=\"dataframe\">\n",
       "  <thead>\n",
       "    <tr style=\"text-align: right;\">\n",
       "      <th></th>\n",
       "      <th>rownumber</th>\n",
       "      <th>customerid</th>\n",
       "      <th>surname</th>\n",
       "      <th>creditscore</th>\n",
       "      <th>geography</th>\n",
       "      <th>gender</th>\n",
       "      <th>age</th>\n",
       "      <th>tenure</th>\n",
       "      <th>balance</th>\n",
       "      <th>numofproducts</th>\n",
       "      <th>hascrcard</th>\n",
       "      <th>isactivemember</th>\n",
       "      <th>estimatedsalary</th>\n",
       "      <th>exited</th>\n",
       "    </tr>\n",
       "  </thead>\n",
       "  <tbody>\n",
       "    <tr>\n",
       "      <th>0</th>\n",
       "      <td>1</td>\n",
       "      <td>15634602</td>\n",
       "      <td>Hargrave</td>\n",
       "      <td>619</td>\n",
       "      <td>France</td>\n",
       "      <td>Female</td>\n",
       "      <td>42</td>\n",
       "      <td>2.0</td>\n",
       "      <td>0.00</td>\n",
       "      <td>1</td>\n",
       "      <td>1</td>\n",
       "      <td>1</td>\n",
       "      <td>101348.88</td>\n",
       "      <td>1</td>\n",
       "    </tr>\n",
       "    <tr>\n",
       "      <th>1</th>\n",
       "      <td>2</td>\n",
       "      <td>15647311</td>\n",
       "      <td>Hill</td>\n",
       "      <td>608</td>\n",
       "      <td>Spain</td>\n",
       "      <td>Female</td>\n",
       "      <td>41</td>\n",
       "      <td>1.0</td>\n",
       "      <td>83807.86</td>\n",
       "      <td>1</td>\n",
       "      <td>0</td>\n",
       "      <td>1</td>\n",
       "      <td>112542.58</td>\n",
       "      <td>0</td>\n",
       "    </tr>\n",
       "    <tr>\n",
       "      <th>2</th>\n",
       "      <td>3</td>\n",
       "      <td>15619304</td>\n",
       "      <td>Onio</td>\n",
       "      <td>502</td>\n",
       "      <td>France</td>\n",
       "      <td>Female</td>\n",
       "      <td>42</td>\n",
       "      <td>8.0</td>\n",
       "      <td>159660.80</td>\n",
       "      <td>3</td>\n",
       "      <td>1</td>\n",
       "      <td>0</td>\n",
       "      <td>113931.57</td>\n",
       "      <td>1</td>\n",
       "    </tr>\n",
       "    <tr>\n",
       "      <th>3</th>\n",
       "      <td>4</td>\n",
       "      <td>15701354</td>\n",
       "      <td>Boni</td>\n",
       "      <td>699</td>\n",
       "      <td>France</td>\n",
       "      <td>Female</td>\n",
       "      <td>39</td>\n",
       "      <td>1.0</td>\n",
       "      <td>0.00</td>\n",
       "      <td>2</td>\n",
       "      <td>0</td>\n",
       "      <td>0</td>\n",
       "      <td>93826.63</td>\n",
       "      <td>0</td>\n",
       "    </tr>\n",
       "    <tr>\n",
       "      <th>4</th>\n",
       "      <td>5</td>\n",
       "      <td>15737888</td>\n",
       "      <td>Mitchell</td>\n",
       "      <td>850</td>\n",
       "      <td>Spain</td>\n",
       "      <td>Female</td>\n",
       "      <td>43</td>\n",
       "      <td>2.0</td>\n",
       "      <td>125510.82</td>\n",
       "      <td>1</td>\n",
       "      <td>1</td>\n",
       "      <td>1</td>\n",
       "      <td>79084.10</td>\n",
       "      <td>0</td>\n",
       "    </tr>\n",
       "  </tbody>\n",
       "</table>\n",
       "</div>"
      ],
      "text/plain": [
       "   rownumber  customerid   surname  creditscore geography  gender  age  \\\n",
       "0          1    15634602  Hargrave          619    France  Female   42   \n",
       "1          2    15647311      Hill          608     Spain  Female   41   \n",
       "2          3    15619304      Onio          502    France  Female   42   \n",
       "3          4    15701354      Boni          699    France  Female   39   \n",
       "4          5    15737888  Mitchell          850     Spain  Female   43   \n",
       "\n",
       "   tenure    balance  numofproducts  hascrcard  isactivemember  \\\n",
       "0     2.0       0.00              1          1               1   \n",
       "1     1.0   83807.86              1          0               1   \n",
       "2     8.0  159660.80              3          1               0   \n",
       "3     1.0       0.00              2          0               0   \n",
       "4     2.0  125510.82              1          1               1   \n",
       "\n",
       "   estimatedsalary  exited  \n",
       "0        101348.88       1  \n",
       "1        112542.58       0  \n",
       "2        113931.57       1  \n",
       "3         93826.63       0  \n",
       "4         79084.10       0  "
      ]
     },
     "execution_count": 5,
     "metadata": {},
     "output_type": "execute_result"
    }
   ],
   "source": [
    "df.columns = df.columns.str.lower(); df.head(5)"
   ]
  },
  {
   "cell_type": "code",
   "execution_count": 6,
   "metadata": {},
   "outputs": [
    {
     "data": {
      "text/plain": [
       "0"
      ]
     },
     "execution_count": 6,
     "metadata": {},
     "output_type": "execute_result"
    }
   ],
   "source": [
    "df.duplicated().sum()"
   ]
  },
  {
   "cell_type": "code",
   "execution_count": 7,
   "metadata": {},
   "outputs": [
    {
     "name": "stdout",
     "output_type": "stream",
     "text": [
      "<class 'pandas.core.frame.DataFrame'>\n",
      "RangeIndex: 10000 entries, 0 to 9999\n",
      "Data columns (total 14 columns):\n",
      " #   Column           Non-Null Count  Dtype  \n",
      "---  ------           --------------  -----  \n",
      " 0   rownumber        10000 non-null  int64  \n",
      " 1   customerid       10000 non-null  int64  \n",
      " 2   surname          10000 non-null  object \n",
      " 3   creditscore      10000 non-null  int64  \n",
      " 4   geography        10000 non-null  object \n",
      " 5   gender           10000 non-null  object \n",
      " 6   age              10000 non-null  int64  \n",
      " 7   tenure           9091 non-null   float64\n",
      " 8   balance          10000 non-null  float64\n",
      " 9   numofproducts    10000 non-null  int64  \n",
      " 10  hascrcard        10000 non-null  int64  \n",
      " 11  isactivemember   10000 non-null  int64  \n",
      " 12  estimatedsalary  10000 non-null  float64\n",
      " 13  exited           10000 non-null  int64  \n",
      "dtypes: float64(3), int64(8), object(3)\n",
      "memory usage: 1.1+ MB\n"
     ]
    }
   ],
   "source": [
    "df.info()"
   ]
  },
  {
   "cell_type": "code",
   "execution_count": 8,
   "metadata": {},
   "outputs": [
    {
     "data": {
      "text/plain": [
       "rownumber            0\n",
       "customerid           0\n",
       "surname              0\n",
       "creditscore          0\n",
       "geography            0\n",
       "gender               0\n",
       "age                  0\n",
       "tenure             909\n",
       "balance              0\n",
       "numofproducts        0\n",
       "hascrcard            0\n",
       "isactivemember       0\n",
       "estimatedsalary      0\n",
       "exited               0\n",
       "dtype: int64"
      ]
     },
     "execution_count": 8,
     "metadata": {},
     "output_type": "execute_result"
    }
   ],
   "source": [
    "df.isna().sum()"
   ]
  },
  {
   "cell_type": "code",
   "execution_count": 9,
   "metadata": {},
   "outputs": [
    {
     "data": {
      "text/plain": [
       "rownumber          0\n",
       "customerid         0\n",
       "surname            0\n",
       "creditscore        0\n",
       "geography          0\n",
       "gender             0\n",
       "age                0\n",
       "tenure             0\n",
       "balance            0\n",
       "numofproducts      0\n",
       "hascrcard          0\n",
       "isactivemember     0\n",
       "estimatedsalary    0\n",
       "exited             0\n",
       "dtype: int64"
      ]
     },
     "execution_count": 9,
     "metadata": {},
     "output_type": "execute_result"
    }
   ],
   "source": [
    "df['tenure'] = df['tenure'].fillna(df['tenure'].median()); df.isna().sum()"
   ]
  },
  {
   "cell_type": "markdown",
   "metadata": {},
   "source": [
    "**Вывод:** \n",
    "\n",
    "   * загрузили данные\n",
    "   * проверили на дубликаты - их нет\n",
    "   * проверили на пропуски, они были в столбце \"сколько лет человек являеться клиентом банка\" - заменили их на 0"
   ]
  },
  {
   "cell_type": "markdown",
   "metadata": {},
   "source": [
    "## Исследование задачи"
   ]
  },
  {
   "cell_type": "markdown",
   "metadata": {},
   "source": [
    "* сделаем кодирование признаков стран и пола\n",
    "* разобьем датасет на выборки\n",
    "* постороим матрицу корреляций наших признаков, посмотрим что с чем и как связано"
   ]
  },
  {
   "cell_type": "code",
   "execution_count": null,
   "metadata": {},
   "outputs": [],
   "source": []
  },
  {
   "cell_type": "code",
   "execution_count": 10,
   "metadata": {},
   "outputs": [],
   "source": [
    "df = df.drop(['rownumber', 'surname', 'customerid'], axis=1)\n",
    "df_ohe = pd.get_dummies(df, drop_first=True)\n",
    "features = df_ohe.drop(['exited'], axis=1)\n",
    "target = df_ohe['exited']\n",
    "\n",
    "features_train, target_train, features_valid, target_valid, features_test, target_test = train_valid_test_split(df_ohe, target = 'exited', random_state=42,\n",
    "                                                                            train_size=0.6, valid_size=0.2, test_size=0.2)"
   ]
  },
  {
   "cell_type": "code",
   "execution_count": 11,
   "metadata": {},
   "outputs": [
    {
     "data": {
      "text/html": [
       "<div>\n",
       "<style scoped>\n",
       "    .dataframe tbody tr th:only-of-type {\n",
       "        vertical-align: middle;\n",
       "    }\n",
       "\n",
       "    .dataframe tbody tr th {\n",
       "        vertical-align: top;\n",
       "    }\n",
       "\n",
       "    .dataframe thead th {\n",
       "        text-align: right;\n",
       "    }\n",
       "</style>\n",
       "<table border=\"1\" class=\"dataframe\">\n",
       "  <thead>\n",
       "    <tr style=\"text-align: right;\">\n",
       "      <th></th>\n",
       "      <th>creditscore</th>\n",
       "      <th>geography</th>\n",
       "      <th>gender</th>\n",
       "      <th>age</th>\n",
       "      <th>tenure</th>\n",
       "      <th>balance</th>\n",
       "      <th>numofproducts</th>\n",
       "      <th>hascrcard</th>\n",
       "      <th>isactivemember</th>\n",
       "      <th>estimatedsalary</th>\n",
       "      <th>exited</th>\n",
       "    </tr>\n",
       "  </thead>\n",
       "  <tbody>\n",
       "    <tr>\n",
       "      <th>0</th>\n",
       "      <td>619</td>\n",
       "      <td>France</td>\n",
       "      <td>Female</td>\n",
       "      <td>42</td>\n",
       "      <td>2.0</td>\n",
       "      <td>0.00</td>\n",
       "      <td>1</td>\n",
       "      <td>1</td>\n",
       "      <td>1</td>\n",
       "      <td>101348.88</td>\n",
       "      <td>1</td>\n",
       "    </tr>\n",
       "    <tr>\n",
       "      <th>1</th>\n",
       "      <td>608</td>\n",
       "      <td>Spain</td>\n",
       "      <td>Female</td>\n",
       "      <td>41</td>\n",
       "      <td>1.0</td>\n",
       "      <td>83807.86</td>\n",
       "      <td>1</td>\n",
       "      <td>0</td>\n",
       "      <td>1</td>\n",
       "      <td>112542.58</td>\n",
       "      <td>0</td>\n",
       "    </tr>\n",
       "    <tr>\n",
       "      <th>2</th>\n",
       "      <td>502</td>\n",
       "      <td>France</td>\n",
       "      <td>Female</td>\n",
       "      <td>42</td>\n",
       "      <td>8.0</td>\n",
       "      <td>159660.80</td>\n",
       "      <td>3</td>\n",
       "      <td>1</td>\n",
       "      <td>0</td>\n",
       "      <td>113931.57</td>\n",
       "      <td>1</td>\n",
       "    </tr>\n",
       "    <tr>\n",
       "      <th>3</th>\n",
       "      <td>699</td>\n",
       "      <td>France</td>\n",
       "      <td>Female</td>\n",
       "      <td>39</td>\n",
       "      <td>1.0</td>\n",
       "      <td>0.00</td>\n",
       "      <td>2</td>\n",
       "      <td>0</td>\n",
       "      <td>0</td>\n",
       "      <td>93826.63</td>\n",
       "      <td>0</td>\n",
       "    </tr>\n",
       "    <tr>\n",
       "      <th>4</th>\n",
       "      <td>850</td>\n",
       "      <td>Spain</td>\n",
       "      <td>Female</td>\n",
       "      <td>43</td>\n",
       "      <td>2.0</td>\n",
       "      <td>125510.82</td>\n",
       "      <td>1</td>\n",
       "      <td>1</td>\n",
       "      <td>1</td>\n",
       "      <td>79084.10</td>\n",
       "      <td>0</td>\n",
       "    </tr>\n",
       "    <tr>\n",
       "      <th>...</th>\n",
       "      <td>...</td>\n",
       "      <td>...</td>\n",
       "      <td>...</td>\n",
       "      <td>...</td>\n",
       "      <td>...</td>\n",
       "      <td>...</td>\n",
       "      <td>...</td>\n",
       "      <td>...</td>\n",
       "      <td>...</td>\n",
       "      <td>...</td>\n",
       "      <td>...</td>\n",
       "    </tr>\n",
       "    <tr>\n",
       "      <th>9995</th>\n",
       "      <td>771</td>\n",
       "      <td>France</td>\n",
       "      <td>Male</td>\n",
       "      <td>39</td>\n",
       "      <td>5.0</td>\n",
       "      <td>0.00</td>\n",
       "      <td>2</td>\n",
       "      <td>1</td>\n",
       "      <td>0</td>\n",
       "      <td>96270.64</td>\n",
       "      <td>0</td>\n",
       "    </tr>\n",
       "    <tr>\n",
       "      <th>9996</th>\n",
       "      <td>516</td>\n",
       "      <td>France</td>\n",
       "      <td>Male</td>\n",
       "      <td>35</td>\n",
       "      <td>10.0</td>\n",
       "      <td>57369.61</td>\n",
       "      <td>1</td>\n",
       "      <td>1</td>\n",
       "      <td>1</td>\n",
       "      <td>101699.77</td>\n",
       "      <td>0</td>\n",
       "    </tr>\n",
       "    <tr>\n",
       "      <th>9997</th>\n",
       "      <td>709</td>\n",
       "      <td>France</td>\n",
       "      <td>Female</td>\n",
       "      <td>36</td>\n",
       "      <td>7.0</td>\n",
       "      <td>0.00</td>\n",
       "      <td>1</td>\n",
       "      <td>0</td>\n",
       "      <td>1</td>\n",
       "      <td>42085.58</td>\n",
       "      <td>1</td>\n",
       "    </tr>\n",
       "    <tr>\n",
       "      <th>9998</th>\n",
       "      <td>772</td>\n",
       "      <td>Germany</td>\n",
       "      <td>Male</td>\n",
       "      <td>42</td>\n",
       "      <td>3.0</td>\n",
       "      <td>75075.31</td>\n",
       "      <td>2</td>\n",
       "      <td>1</td>\n",
       "      <td>0</td>\n",
       "      <td>92888.52</td>\n",
       "      <td>1</td>\n",
       "    </tr>\n",
       "    <tr>\n",
       "      <th>9999</th>\n",
       "      <td>792</td>\n",
       "      <td>France</td>\n",
       "      <td>Female</td>\n",
       "      <td>28</td>\n",
       "      <td>5.0</td>\n",
       "      <td>130142.79</td>\n",
       "      <td>1</td>\n",
       "      <td>1</td>\n",
       "      <td>0</td>\n",
       "      <td>38190.78</td>\n",
       "      <td>0</td>\n",
       "    </tr>\n",
       "  </tbody>\n",
       "</table>\n",
       "<p>10000 rows × 11 columns</p>\n",
       "</div>"
      ],
      "text/plain": [
       "      creditscore geography  gender  age  tenure    balance  numofproducts  \\\n",
       "0             619    France  Female   42     2.0       0.00              1   \n",
       "1             608     Spain  Female   41     1.0   83807.86              1   \n",
       "2             502    France  Female   42     8.0  159660.80              3   \n",
       "3             699    France  Female   39     1.0       0.00              2   \n",
       "4             850     Spain  Female   43     2.0  125510.82              1   \n",
       "...           ...       ...     ...  ...     ...        ...            ...   \n",
       "9995          771    France    Male   39     5.0       0.00              2   \n",
       "9996          516    France    Male   35    10.0   57369.61              1   \n",
       "9997          709    France  Female   36     7.0       0.00              1   \n",
       "9998          772   Germany    Male   42     3.0   75075.31              2   \n",
       "9999          792    France  Female   28     5.0  130142.79              1   \n",
       "\n",
       "      hascrcard  isactivemember  estimatedsalary  exited  \n",
       "0             1               1        101348.88       1  \n",
       "1             0               1        112542.58       0  \n",
       "2             1               0        113931.57       1  \n",
       "3             0               0         93826.63       0  \n",
       "4             1               1         79084.10       0  \n",
       "...         ...             ...              ...     ...  \n",
       "9995          1               0         96270.64       0  \n",
       "9996          1               1        101699.77       0  \n",
       "9997          0               1         42085.58       1  \n",
       "9998          1               0         92888.52       1  \n",
       "9999          1               0         38190.78       0  \n",
       "\n",
       "[10000 rows x 11 columns]"
      ]
     },
     "execution_count": 11,
     "metadata": {},
     "output_type": "execute_result"
    }
   ],
   "source": [
    "df"
   ]
  },
  {
   "cell_type": "code",
   "execution_count": 14,
   "metadata": {},
   "outputs": [],
   "source": [
    "numeric = ['creditscore', 'age', 'tenure', 'balance', 'numofproducts', 'estimatedsalary']\n",
    "scaler = StandardScaler()\n",
    "scaler.fit(features_train[numeric])\n",
    "features_train[numeric] = scaler.transform(features_train[numeric])\n",
    "\n",
    "features_valid[numeric] = scaler.transform(features_valid[numeric])\n",
    "\n",
    "features_test[numeric] = scaler.transform(features_test[numeric])"
   ]
  },
  {
   "cell_type": "code",
   "execution_count": 15,
   "metadata": {},
   "outputs": [],
   "source": [
    "phik_overview = df_ohe.phik_matrix(interval_cols=df_ohe)"
   ]
  },
  {
   "cell_type": "code",
   "execution_count": 16,
   "metadata": {},
   "outputs": [
    {
     "data": {
      "image/png": "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\n",
      "text/plain": [
       "<Figure size 1080x576 with 2 Axes>"
      ]
     },
     "metadata": {
      "needs_background": "light"
     },
     "output_type": "display_data"
    }
   ],
   "source": [
    "plot_correlation_matrix(phik_overview.values, \n",
    "                        x_labels=phik_overview.columns, \n",
    "                        y_labels=phik_overview.index, \n",
    "                        vmin=0, vmax=1, \n",
    "                        title=r\"Корреляция $\\phi_K$\", \n",
    "                        fontsize_factor=1.5, \n",
    "                        figsize=(15, 8))\n",
    "plt.tight_layout()"
   ]
  },
  {
   "cell_type": "markdown",
   "metadata": {},
   "source": [
    "**Вывод:** довольно не плохие связи у признаков age - exited, balanced - Germany, numofproduct - exited"
   ]
  },
  {
   "cell_type": "markdown",
   "metadata": {},
   "source": [
    "Проверим на баланс наш целевой признак"
   ]
  },
  {
   "cell_type": "code",
   "execution_count": 18,
   "metadata": {},
   "outputs": [
    {
     "data": {
      "image/png": "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\n",
      "text/plain": [
       "<Figure size 432x288 with 1 Axes>"
      ]
     },
     "metadata": {
      "needs_background": "light"
     },
     "output_type": "display_data"
    }
   ],
   "source": [
    "ax = sns.countplot(data = target, x=df['exited'])\n",
    "ax.set(title = 'Факт ухода клиента', ylabel='Count')\n",
    "plt.show();"
   ]
  },
  {
   "cell_type": "markdown",
   "metadata": {},
   "source": [
    "**Вывод:** мы имеем дело с сильним дисбалансом, посмотрим что покажет с ним и без него наша F1 и какой будет AUC-ROC"
   ]
  },
  {
   "cell_type": "code",
   "execution_count": 19,
   "metadata": {},
   "outputs": [
    {
     "name": "stdout",
     "output_type": "stream",
     "text": [
      "F1-score: 0.5135951661631419\n",
      "AUC-ROC: 0.8021994801819363\n",
      "Best model: DecisionTreeClassifier(max_depth=7, random_state=42)\n"
     ]
    }
   ],
   "source": [
    "best_model = None\n",
    "best_auc_roc = 0\n",
    "\n",
    "for depth in range(1, 10):\n",
    "    model = DecisionTreeClassifier(random_state=42, max_depth=depth, criterion='gini')\n",
    "    model.fit(features_train, target_train)\n",
    "    pred_valid = model.predict(features_valid)\n",
    "    probabilities_valid = model.predict_proba(features_valid)\n",
    "    probabilities_one_valid = probabilities_valid[:, 1]\n",
    "    auc_roc = roc_auc_score(target_valid, probabilities_one_valid)\n",
    "    if auc_roc > best_auc_roc:\n",
    "        best_model = model\n",
    "        best_auc_roc = auc_roc\n",
    "        \n",
    "print('F1-score:', f1_score(target_valid, pred_valid))\n",
    "print('AUC-ROC:', best_auc_roc)\n",
    "print('Best model:', best_model)"
   ]
  },
  {
   "cell_type": "code",
   "execution_count": 20,
   "metadata": {},
   "outputs": [
    {
     "name": "stdout",
     "output_type": "stream",
     "text": [
      "F1-score: 0.5380710659898478\n",
      "AUC-ROC: 0.8485071474983755\n",
      "Best model: RandomForestClassifier(max_depth=9, n_estimators=118, random_state=42)\n"
     ]
    }
   ],
   "source": [
    "best_model = None\n",
    "best_auc_roc = 0\n",
    "\n",
    "for depth in range(1, 12):\n",
    "    for est in range(100, 130):\n",
    "        model = RandomForestClassifier(max_depth = depth, n_estimators=est, random_state=42)\n",
    "        model.fit(features_train, target_train)\n",
    "        pred_valid = model.predict(features_valid)\n",
    "        probabilities_valid = model.predict_proba(features_valid)\n",
    "        probabilities_one_valid = probabilities_valid[:, 1]\n",
    "        auc_roc = roc_auc_score(target_valid, probabilities_one_valid)\n",
    "        if auc_roc > best_auc_roc:\n",
    "            best_model = model\n",
    "            best_auc_roc = auc_roc\n",
    "            \n",
    "print('F1-score:', f1_score(target_valid, pred_valid))\n",
    "print('AUC-ROC:', best_auc_roc)\n",
    "print('Best model:', best_model)"
   ]
  },
  {
   "cell_type": "code",
   "execution_count": 21,
   "metadata": {},
   "outputs": [
    {
     "name": "stdout",
     "output_type": "stream",
     "text": [
      "F1-score: 0.29615384615384616\n",
      "AUC-ROC: 0.7519753086419753\n"
     ]
    }
   ],
   "source": [
    "model = LogisticRegression(random_state=42, solver='liblinear')\n",
    "model.fit(features_train, target_train)\n",
    "pred_valid = model.predict(features_valid)\n",
    "probabilities_valid = model.predict_proba(features_valid)\n",
    "probabilities_one_valid = probabilities_valid[:, 1]\n",
    "auc_roc = roc_auc_score(target_valid, probabilities_one_valid)\n",
    "\n",
    "print('F1-score:', f1_score(target_valid, pred_valid))\n",
    "print('AUC-ROC:', auc_roc)"
   ]
  },
  {
   "cell_type": "markdown",
   "metadata": {},
   "source": [
    "**Вывод:** как и ожидалось весьма скудный результат для F1"
   ]
  },
  {
   "cell_type": "markdown",
   "metadata": {},
   "source": [
    "## Борьба с дисбалансом"
   ]
  },
  {
   "cell_type": "markdown",
   "metadata": {},
   "source": [
    "* попробуем увеличить выборку в 4 раза так как у нас соотношение 1:4"
   ]
  },
  {
   "cell_type": "code",
   "execution_count": 22,
   "metadata": {},
   "outputs": [
    {
     "name": "stdout",
     "output_type": "stream",
     "text": [
      "(9681, 11)\n",
      "(9681,)\n"
     ]
    }
   ],
   "source": [
    "def upsample(features, target, repeat):\n",
    "    features_zeros = features[target==0]\n",
    "    features_ones = features[target==1]\n",
    "    target_zeros = target[target==0]\n",
    "    target_ones = target[target==1]\n",
    "    \n",
    "    \n",
    "    features_upsampled = pd.concat([features_zeros] + [features_ones] * repeat)\n",
    "    target_upsampled = pd.concat([target_zeros] + [target_ones] * repeat)\n",
    "\n",
    "    features_upsampled, target_upsampled = shuffle(features_upsampled, target_upsampled, random_state=42)\n",
    "    \n",
    "    return features_upsampled, target_upsampled\n",
    "\n",
    "features_upsampled, target_upsampled = upsample(features_train, target_train, 4)\n",
    "\n",
    "print(features_upsampled.shape)\n",
    "print(target_upsampled.shape)"
   ]
  },
  {
   "cell_type": "code",
   "execution_count": 23,
   "metadata": {},
   "outputs": [
    {
     "name": "stdout",
     "output_type": "stream",
     "text": [
      "F1-score: 0.46379310344827585\n",
      "AUC-ROC: 0.7528135152696555\n"
     ]
    }
   ],
   "source": [
    "model = LogisticRegression(random_state=42, solver='liblinear')\n",
    "model.fit(features_upsampled, target_upsampled)\n",
    "pred_valid = model.predict(features_valid)\n",
    "probabilities_valid = model.predict_proba(features_valid)\n",
    "probabilities_one_valid = probabilities_valid[:, 1]\n",
    "auc_roc = roc_auc_score(target_valid, probabilities_one_valid)\n",
    "\n",
    "print('F1-score:', f1_score(target_valid, pred_valid))\n",
    "print('AUC-ROC:', auc_roc)"
   ]
  },
  {
   "cell_type": "code",
   "execution_count": 24,
   "metadata": {},
   "outputs": [
    {
     "name": "stdout",
     "output_type": "stream",
     "text": [
      "F1-score: 0.5682758620689656\n",
      "AUC-ROC: 0.8433950617283953\n",
      "Best model: RandomForestClassifier(max_depth=8, n_estimators=111, random_state=42)\n"
     ]
    }
   ],
   "source": [
    "best_model = None\n",
    "best_auc_roc = 0\n",
    "\n",
    "for depth in range(1, 20):\n",
    "    for est in range(100, 130):\n",
    "        model = RandomForestClassifier(max_depth = depth, n_estimators=est, random_state=42)\n",
    "        model.fit(features_upsampled, target_upsampled)\n",
    "        pred_valid = model.predict(features_valid)\n",
    "        probabilities_valid = model.predict_proba(features_valid)\n",
    "        probabilities_one_valid = probabilities_valid[:, 1]\n",
    "        auc_roc = roc_auc_score(target_valid, probabilities_one_valid)\n",
    "        if auc_roc > best_auc_roc:\n",
    "            best_model = model\n",
    "            best_auc_roc = auc_roc\n",
    "            \n",
    "print('F1-score:', f1_score(target_valid, pred_valid))\n",
    "print('AUC-ROC:', best_auc_roc)\n",
    "print('Best model:', best_model)"
   ]
  },
  {
   "cell_type": "code",
   "execution_count": 25,
   "metadata": {},
   "outputs": [
    {
     "name": "stdout",
     "output_type": "stream",
     "text": [
      "F1-score: 0.5163398692810458\n",
      "AUC-ROC: 0.808514457439896\n",
      "Best model: DecisionTreeClassifier(max_depth=6, random_state=42)\n"
     ]
    }
   ],
   "source": [
    "best_model = None\n",
    "best_auc_roc = 0\n",
    "\n",
    "for depth in range(1, 10):\n",
    "    model = DecisionTreeClassifier(random_state=42, max_depth=depth, criterion='gini')\n",
    "    model.fit(features_upsampled, target_upsampled)\n",
    "    pred_valid = model.predict(features_valid)\n",
    "    probabilities_valid = model.predict_proba(features_valid)\n",
    "    probabilities_one_valid = probabilities_valid[:, 1]\n",
    "    auc_roc = roc_auc_score(target_valid, probabilities_one_valid)\n",
    "    if auc_roc > best_auc_roc:\n",
    "        best_model = model\n",
    "        best_auc_roc = auc_roc\n",
    "        \n",
    "print('F1-score:', f1_score(target_valid, pred_valid))\n",
    "print('AUC-ROC:', best_auc_roc)\n",
    "print('Best model:', best_model)"
   ]
  },
  {
   "cell_type": "markdown",
   "metadata": {},
   "source": [
    "* попробуем теперь ее уменьшить так же на четверть"
   ]
  },
  {
   "cell_type": "code",
   "execution_count": 26,
   "metadata": {},
   "outputs": [],
   "source": [
    "def downsample(features, target, fraction):\n",
    "    features_zeros = features[target == 0]\n",
    "    features_ones = features[target == 1]\n",
    "    target_zeros = target[target == 0]\n",
    "    target_ones = target[target == 1]\n",
    "\n",
    "    features_downsampled = pd.concat(\n",
    "        [features_zeros.sample(frac=fraction, random_state=42)] + [features_ones])\n",
    "    target_downsampled = pd.concat(\n",
    "        [target_zeros.sample(frac=fraction, random_state=42)] + [target_ones])\n",
    "    \n",
    "    features_downsampled, target_downsampled = shuffle(\n",
    "        features_downsampled, target_downsampled, random_state=42)\n",
    "    \n",
    "    return features_downsampled, target_downsampled\n",
    "\n",
    "features_downsampled, target_downsampled = downsample(features_train, target_train, 0.25)"
   ]
  },
  {
   "cell_type": "code",
   "execution_count": 27,
   "metadata": {},
   "outputs": [
    {
     "name": "stdout",
     "output_type": "stream",
     "text": [
      "F1-score: 0.46101113967437873\n",
      "AUC-ROC: 0.7504515919428202\n"
     ]
    }
   ],
   "source": [
    "model = LogisticRegression(random_state=42, solver='liblinear')\n",
    "model.fit(features_downsampled, target_downsampled)\n",
    "pred_valid = model.predict(features_valid)\n",
    "probabilities_valid = model.predict_proba(features_valid)\n",
    "probabilities_one_valid = probabilities_valid[:, 1]\n",
    "auc_roc = roc_auc_score(target_valid, probabilities_one_valid)\n",
    "\n",
    "print('F1-score:', f1_score(target_valid, pred_valid))\n",
    "print('AUC-ROC:', auc_roc)"
   ]
  },
  {
   "cell_type": "code",
   "execution_count": 28,
   "metadata": {
    "scrolled": true
   },
   "outputs": [
    {
     "name": "stdout",
     "output_type": "stream",
     "text": [
      "F1-score: 0.5304937076476283\n",
      "AUC-ROC: 0.8398554256010395\n",
      "Best model: RandomForestClassifier(max_depth=6, n_estimators=106, random_state=42)\n"
     ]
    }
   ],
   "source": [
    "best_model = None\n",
    "best_auc_roc = 0\n",
    "\n",
    "for depth in range(1, 12):\n",
    "    for est in range(100, 130):\n",
    "        model = RandomForestClassifier(max_depth = depth, n_estimators=est, random_state=42)\n",
    "        model.fit(features_downsampled, target_downsampled)\n",
    "        pred_valid = model.predict(features_valid)\n",
    "        probabilities_valid = model.predict_proba(features_valid)\n",
    "        probabilities_one_valid = probabilities_valid[:, 1]\n",
    "        auc_roc = roc_auc_score(target_valid, probabilities_one_valid)\n",
    "        if auc_roc > best_auc_roc:\n",
    "            best_model = model\n",
    "            best_auc_roc = auc_roc\n",
    "            \n",
    "print('F1-score:', f1_score(target_valid, pred_valid))\n",
    "print('AUC-ROC:', best_auc_roc)\n",
    "print('Best model:', best_model)"
   ]
  },
  {
   "cell_type": "code",
   "execution_count": 29,
   "metadata": {},
   "outputs": [
    {
     "name": "stdout",
     "output_type": "stream",
     "text": [
      "F1-score: 0.48686868686868684\n",
      "AUC-ROC: 0.811169590643275\n",
      "Best model: DecisionTreeClassifier(max_depth=5, random_state=42)\n"
     ]
    }
   ],
   "source": [
    "best_model = None\n",
    "best_auc_roc = 0\n",
    "\n",
    "for depth in range(1, 10):\n",
    "    model = DecisionTreeClassifier(random_state=42, max_depth=depth, criterion='gini')\n",
    "    model.fit(features_downsampled, target_downsampled)\n",
    "    pred_valid = model.predict(features_valid)\n",
    "    probabilities_valid = model.predict_proba(features_valid)\n",
    "    probabilities_one_valid = probabilities_valid[:, 1]\n",
    "    auc_roc = roc_auc_score(target_valid, probabilities_one_valid)\n",
    "    if auc_roc > best_auc_roc:\n",
    "        best_model = model\n",
    "        best_auc_roc = auc_roc\n",
    "        \n",
    "print('F1-score:', f1_score(target_valid, pred_valid))\n",
    "print('AUC-ROC:', best_auc_roc)\n",
    "print('Best model:', best_model)"
   ]
  },
  {
   "cell_type": "markdown",
   "metadata": {},
   "source": [
    "## Тестирование модели"
   ]
  },
  {
   "cell_type": "code",
   "execution_count": 31,
   "metadata": {},
   "outputs": [
    {
     "name": "stdout",
     "output_type": "stream",
     "text": [
      "F1-score: 0.6377097729516288\n",
      "AUC-ROC: 0.8664864464523775\n"
     ]
    }
   ],
   "source": [
    "model = RandomForestClassifier(max_depth = 8, n_estimators=111, random_state=42)\n",
    "model.fit(features_upsampled, target_upsampled)\n",
    "pred_test = model.predict(features_test)\n",
    "probabilities_test = model.predict_proba(features_test)\n",
    "probabilities_one_test = probabilities_test[:, 1]\n",
    "auc_roc = roc_auc_score(target_test, probabilities_one_test)\n",
    "            \n",
    "print('F1-score:', f1_score(target_test, pred_test))\n",
    "print('AUC-ROC:', auc_roc)"
   ]
  },
  {
   "cell_type": "markdown",
   "metadata": {},
   "source": [
    "**Вывод:**  В ходе работы мы сталкнулсь с сильным дисбаланосом класса. Увеличив выборку искусственно мы стабилизировали и избавились от дисбаланса в нашем целевом признаке, что дало нам весьма не плохой результат на F1 мере, что в свою очередь дало нам не плохо предсказание на нашей модели в вопросе о том уйдет клиет или нет в ближайшее время из банка."
   ]
  }
 ],
 "metadata": {
  "ExecuteTimeLog": [
   {
    "duration": 4,
    "start_time": "2023-02-16T21:35:10.138Z"
   },
   {
    "duration": 1168,
    "start_time": "2023-02-16T21:41:21.913Z"
   },
   {
    "duration": 208,
    "start_time": "2023-02-16T21:42:40.648Z"
   },
   {
    "duration": 59,
    "start_time": "2023-02-16T21:43:45.856Z"
   },
   {
    "duration": 13,
    "start_time": "2023-02-16T21:44:24.275Z"
   },
   {
    "duration": 9,
    "start_time": "2023-02-16T21:45:50.949Z"
   },
   {
    "duration": 15,
    "start_time": "2023-02-16T21:47:36.914Z"
   },
   {
    "duration": 11,
    "start_time": "2023-02-16T21:47:42.864Z"
   },
   {
    "duration": 4,
    "start_time": "2023-02-16T21:48:00.615Z"
   },
   {
    "duration": 12,
    "start_time": "2023-02-16T21:48:44.680Z"
   },
   {
    "duration": 50,
    "start_time": "2023-02-16T21:50:58.539Z"
   },
   {
    "duration": 13,
    "start_time": "2023-02-16T21:50:59.169Z"
   },
   {
    "duration": 3,
    "start_time": "2023-02-16T21:51:00.628Z"
   },
   {
    "duration": 13,
    "start_time": "2023-02-16T21:51:02.919Z"
   },
   {
    "duration": 13,
    "start_time": "2023-02-16T21:51:04.196Z"
   },
   {
    "duration": 9,
    "start_time": "2023-02-16T21:51:08.285Z"
   },
   {
    "duration": 96,
    "start_time": "2023-02-16T21:52:42.470Z"
   },
   {
    "duration": 17,
    "start_time": "2023-02-16T21:52:47.756Z"
   },
   {
    "duration": 13,
    "start_time": "2023-02-16T21:53:24.974Z"
   },
   {
    "duration": 20,
    "start_time": "2023-02-16T21:53:53.379Z"
   },
   {
    "duration": 9,
    "start_time": "2023-02-16T21:53:59.860Z"
   },
   {
    "duration": 29,
    "start_time": "2023-02-16T21:54:08.451Z"
   },
   {
    "duration": 6,
    "start_time": "2023-02-16T21:54:19.873Z"
   },
   {
    "duration": 31,
    "start_time": "2023-02-16T21:55:08.258Z"
   },
   {
    "duration": 25,
    "start_time": "2023-02-16T21:55:25.707Z"
   },
   {
    "duration": 23,
    "start_time": "2023-02-16T21:55:30.754Z"
   },
   {
    "duration": 24,
    "start_time": "2023-02-16T21:55:44.887Z"
   },
   {
    "duration": 10,
    "start_time": "2023-02-16T21:56:12.640Z"
   },
   {
    "duration": 10,
    "start_time": "2023-02-16T21:56:16.509Z"
   },
   {
    "duration": 15,
    "start_time": "2023-02-16T21:56:32.376Z"
   },
   {
    "duration": 24,
    "start_time": "2023-02-16T21:56:35.485Z"
   },
   {
    "duration": 4,
    "start_time": "2023-02-16T21:57:01.700Z"
   },
   {
    "duration": 6,
    "start_time": "2023-02-16T21:57:07.728Z"
   },
   {
    "duration": 4,
    "start_time": "2023-02-16T21:58:12.180Z"
   },
   {
    "duration": 7,
    "start_time": "2023-02-16T21:58:16.973Z"
   },
   {
    "duration": 16,
    "start_time": "2023-02-16T21:58:23.589Z"
   },
   {
    "duration": 8,
    "start_time": "2023-02-16T22:01:17.069Z"
   },
   {
    "duration": 47,
    "start_time": "2023-02-16T22:02:59.076Z"
   },
   {
    "duration": 10,
    "start_time": "2023-02-16T22:03:32.788Z"
   },
   {
    "duration": 9,
    "start_time": "2023-02-16T22:12:21.284Z"
   },
   {
    "duration": 10,
    "start_time": "2023-02-16T22:12:35.730Z"
   },
   {
    "duration": 11,
    "start_time": "2023-02-16T22:12:45.887Z"
   },
   {
    "duration": 11,
    "start_time": "2023-02-16T22:12:57.698Z"
   },
   {
    "duration": 11,
    "start_time": "2023-02-16T22:13:42.240Z"
   },
   {
    "duration": 8,
    "start_time": "2023-02-16T22:13:54.126Z"
   },
   {
    "duration": 11,
    "start_time": "2023-02-16T22:14:04.383Z"
   },
   {
    "duration": 1273,
    "start_time": "2023-02-16T22:14:34.519Z"
   },
   {
    "duration": 1156,
    "start_time": "2023-02-16T22:14:54.941Z"
   },
   {
    "duration": 10,
    "start_time": "2023-02-16T22:15:10.584Z"
   },
   {
    "duration": 10,
    "start_time": "2023-02-16T22:15:23.345Z"
   },
   {
    "duration": 3,
    "start_time": "2023-02-16T22:15:43.585Z"
   },
   {
    "duration": 10,
    "start_time": "2023-02-16T22:15:51.836Z"
   },
   {
    "duration": 9,
    "start_time": "2023-02-16T22:16:02.548Z"
   },
   {
    "duration": 11,
    "start_time": "2023-02-16T22:17:31.191Z"
   },
   {
    "duration": 11,
    "start_time": "2023-02-16T22:18:25.319Z"
   },
   {
    "duration": 9,
    "start_time": "2023-02-16T22:18:42.599Z"
   },
   {
    "duration": 22,
    "start_time": "2023-02-16T22:18:59.633Z"
   },
   {
    "duration": 8,
    "start_time": "2023-02-16T22:19:28.688Z"
   },
   {
    "duration": 9,
    "start_time": "2023-02-16T22:19:33.360Z"
   },
   {
    "duration": 1247,
    "start_time": "2023-02-16T22:19:40.150Z"
   },
   {
    "duration": 9274,
    "start_time": "2023-02-16T22:19:46.566Z"
   },
   {
    "duration": 16,
    "start_time": "2023-02-16T22:19:58.790Z"
   },
   {
    "duration": 9,
    "start_time": "2023-02-16T22:20:03.878Z"
   },
   {
    "duration": 1251,
    "start_time": "2023-02-16T22:20:18.223Z"
   },
   {
    "duration": 9,
    "start_time": "2023-02-16T22:21:04.751Z"
   },
   {
    "duration": 9,
    "start_time": "2023-02-16T22:21:16.567Z"
   },
   {
    "duration": 1209,
    "start_time": "2023-02-16T22:21:36.875Z"
   },
   {
    "duration": 44,
    "start_time": "2023-02-16T22:22:13.328Z"
   },
   {
    "duration": 52,
    "start_time": "2023-02-16T22:22:38.318Z"
   },
   {
    "duration": 48,
    "start_time": "2023-02-16T22:22:49.565Z"
   },
   {
    "duration": 3786,
    "start_time": "2023-02-16T22:23:23.543Z"
   },
   {
    "duration": 3895,
    "start_time": "2023-02-16T22:23:35.914Z"
   },
   {
    "duration": 4085,
    "start_time": "2023-02-16T22:24:12.346Z"
   },
   {
    "duration": 3916,
    "start_time": "2023-02-16T22:24:42.221Z"
   },
   {
    "duration": 204,
    "start_time": "2023-02-16T22:24:50.314Z"
   },
   {
    "duration": 9,
    "start_time": "2023-02-16T22:25:03.878Z"
   },
   {
    "duration": 12,
    "start_time": "2023-02-16T22:25:10.114Z"
   },
   {
    "duration": 196,
    "start_time": "2023-02-16T22:26:34.674Z"
   },
   {
    "duration": 5,
    "start_time": "2023-02-16T22:27:06.864Z"
   },
   {
    "duration": 3854,
    "start_time": "2023-02-16T22:27:22.027Z"
   },
   {
    "duration": 9,
    "start_time": "2023-02-16T22:27:55.596Z"
   },
   {
    "duration": 7,
    "start_time": "2023-02-16T22:28:16.416Z"
   },
   {
    "duration": 9,
    "start_time": "2023-02-16T22:28:30.273Z"
   },
   {
    "duration": 7,
    "start_time": "2023-02-16T22:30:39.598Z"
   },
   {
    "duration": 4,
    "start_time": "2023-02-16T22:30:42.160Z"
   },
   {
    "duration": 8,
    "start_time": "2023-02-16T22:30:55.332Z"
   },
   {
    "duration": 7,
    "start_time": "2023-02-16T22:31:00.033Z"
   },
   {
    "duration": 10,
    "start_time": "2023-02-16T22:32:00.966Z"
   },
   {
    "duration": 9,
    "start_time": "2023-02-16T22:32:06.248Z"
   },
   {
    "duration": 10,
    "start_time": "2023-02-16T22:32:44.580Z"
   },
   {
    "duration": 9,
    "start_time": "2023-02-16T22:32:50.704Z"
   },
   {
    "duration": 9,
    "start_time": "2023-02-16T22:33:04.157Z"
   },
   {
    "duration": 9,
    "start_time": "2023-02-16T22:33:10.338Z"
   },
   {
    "duration": 69,
    "start_time": "2023-02-16T22:34:27.503Z"
   },
   {
    "duration": 10,
    "start_time": "2023-02-16T22:34:36.659Z"
   },
   {
    "duration": 11,
    "start_time": "2023-02-16T22:36:51.405Z"
   },
   {
    "duration": 10,
    "start_time": "2023-02-16T22:37:10.142Z"
   },
   {
    "duration": 10,
    "start_time": "2023-02-16T22:37:15.871Z"
   },
   {
    "duration": 9,
    "start_time": "2023-02-16T22:37:23.728Z"
   },
   {
    "duration": 11,
    "start_time": "2023-02-16T22:37:34.678Z"
   },
   {
    "duration": 9,
    "start_time": "2023-02-16T22:37:49.427Z"
   },
   {
    "duration": 15,
    "start_time": "2023-02-16T22:37:57.230Z"
   },
   {
    "duration": 15,
    "start_time": "2023-02-16T22:38:15.528Z"
   },
   {
    "duration": 15,
    "start_time": "2023-02-16T22:38:20.624Z"
   },
   {
    "duration": 9,
    "start_time": "2023-02-16T22:38:57.679Z"
   },
   {
    "duration": 5,
    "start_time": "2023-02-16T22:39:16.422Z"
   },
   {
    "duration": 5,
    "start_time": "2023-02-16T22:39:18.522Z"
   },
   {
    "duration": 5,
    "start_time": "2023-02-16T22:39:31.246Z"
   },
   {
    "duration": 5,
    "start_time": "2023-02-16T22:39:31.656Z"
   },
   {
    "duration": 6,
    "start_time": "2023-02-16T22:40:08.339Z"
   },
   {
    "duration": 5,
    "start_time": "2023-02-16T22:40:14.203Z"
   },
   {
    "duration": 4,
    "start_time": "2023-02-16T22:40:22.792Z"
   },
   {
    "duration": 5,
    "start_time": "2023-02-16T22:40:23.206Z"
   },
   {
    "duration": 5,
    "start_time": "2023-02-16T22:40:34.296Z"
   },
   {
    "duration": 6,
    "start_time": "2023-02-16T22:40:34.718Z"
   },
   {
    "duration": 1126,
    "start_time": "2023-02-16T22:41:00.547Z"
   },
   {
    "duration": 59,
    "start_time": "2023-02-16T22:41:01.675Z"
   },
   {
    "duration": 15,
    "start_time": "2023-02-16T22:41:01.738Z"
   },
   {
    "duration": 31,
    "start_time": "2023-02-16T22:41:01.757Z"
   },
   {
    "duration": 46,
    "start_time": "2023-02-16T22:41:01.790Z"
   },
   {
    "duration": 44,
    "start_time": "2023-02-16T22:41:01.838Z"
   },
   {
    "duration": 29,
    "start_time": "2023-02-16T22:41:01.884Z"
   },
   {
    "duration": 25,
    "start_time": "2023-02-16T22:41:01.915Z"
   },
   {
    "duration": 911,
    "start_time": "2023-02-16T22:41:01.942Z"
   },
   {
    "duration": 0,
    "start_time": "2023-02-16T22:41:02.854Z"
   },
   {
    "duration": 694,
    "start_time": "2023-02-16T22:41:52.908Z"
   },
   {
    "duration": 7,
    "start_time": "2023-02-16T22:42:06.562Z"
   },
   {
    "duration": 725,
    "start_time": "2023-02-16T22:42:08.566Z"
   },
   {
    "duration": 6,
    "start_time": "2023-02-16T22:42:13.500Z"
   },
   {
    "duration": 5,
    "start_time": "2023-02-16T22:42:31.487Z"
   },
   {
    "duration": 1156,
    "start_time": "2023-02-16T22:42:43.616Z"
   },
   {
    "duration": 59,
    "start_time": "2023-02-16T22:42:44.773Z"
   },
   {
    "duration": 13,
    "start_time": "2023-02-16T22:42:44.834Z"
   },
   {
    "duration": 7,
    "start_time": "2023-02-16T22:42:44.848Z"
   },
   {
    "duration": 37,
    "start_time": "2023-02-16T22:42:44.857Z"
   },
   {
    "duration": 13,
    "start_time": "2023-02-16T22:42:44.896Z"
   },
   {
    "duration": 7,
    "start_time": "2023-02-16T22:42:44.911Z"
   },
   {
    "duration": 18,
    "start_time": "2023-02-16T22:42:44.920Z"
   },
   {
    "duration": 7,
    "start_time": "2023-02-16T22:42:44.940Z"
   },
   {
    "duration": 8,
    "start_time": "2023-02-16T22:42:44.948Z"
   },
   {
    "duration": 7,
    "start_time": "2023-02-16T22:42:50.519Z"
   },
   {
    "duration": 1087,
    "start_time": "2023-02-16T22:43:10.881Z"
   },
   {
    "duration": 58,
    "start_time": "2023-02-16T22:43:11.970Z"
   },
   {
    "duration": 13,
    "start_time": "2023-02-16T22:43:12.032Z"
   },
   {
    "duration": 5,
    "start_time": "2023-02-16T22:43:12.048Z"
   },
   {
    "duration": 15,
    "start_time": "2023-02-16T22:43:12.054Z"
   },
   {
    "duration": 12,
    "start_time": "2023-02-16T22:43:12.070Z"
   },
   {
    "duration": 6,
    "start_time": "2023-02-16T22:43:12.084Z"
   },
   {
    "duration": 13,
    "start_time": "2023-02-16T22:43:12.092Z"
   },
   {
    "duration": 33,
    "start_time": "2023-02-16T22:43:12.107Z"
   },
   {
    "duration": 12,
    "start_time": "2023-02-16T22:43:12.142Z"
   },
   {
    "duration": 8,
    "start_time": "2023-02-16T22:43:12.156Z"
   },
   {
    "duration": 7,
    "start_time": "2023-02-16T22:48:26.703Z"
   },
   {
    "duration": 6,
    "start_time": "2023-02-16T22:48:28.086Z"
   },
   {
    "duration": 480,
    "start_time": "2023-02-16T22:51:27.261Z"
   },
   {
    "duration": 1252,
    "start_time": "2023-02-16T22:52:37.664Z"
   },
   {
    "duration": 9,
    "start_time": "2023-02-16T22:57:15.397Z"
   },
   {
    "duration": 992,
    "start_time": "2023-02-16T22:57:33.966Z"
   },
   {
    "duration": 909,
    "start_time": "2023-02-16T22:59:52.713Z"
   },
   {
    "duration": 8,
    "start_time": "2023-02-16T23:01:09.153Z"
   },
   {
    "duration": 8,
    "start_time": "2023-02-16T23:01:37.782Z"
   },
   {
    "duration": 7,
    "start_time": "2023-02-16T23:01:47.469Z"
   },
   {
    "duration": 1400,
    "start_time": "2023-02-16T23:01:52.531Z"
   },
   {
    "duration": 57,
    "start_time": "2023-02-16T23:01:53.934Z"
   },
   {
    "duration": 16,
    "start_time": "2023-02-16T23:01:53.992Z"
   },
   {
    "duration": 8,
    "start_time": "2023-02-16T23:01:54.010Z"
   },
   {
    "duration": 26,
    "start_time": "2023-02-16T23:01:54.021Z"
   },
   {
    "duration": 14,
    "start_time": "2023-02-16T23:01:54.049Z"
   },
   {
    "duration": 9,
    "start_time": "2023-02-16T23:01:54.066Z"
   },
   {
    "duration": 9,
    "start_time": "2023-02-16T23:01:54.077Z"
   },
   {
    "duration": 8,
    "start_time": "2023-02-16T23:01:54.088Z"
   },
   {
    "duration": 45,
    "start_time": "2023-02-16T23:01:54.098Z"
   },
   {
    "duration": 14,
    "start_time": "2023-02-16T23:01:54.144Z"
   },
   {
    "duration": 932,
    "start_time": "2023-02-16T23:01:54.160Z"
   },
   {
    "duration": 1448,
    "start_time": "2023-02-16T23:02:23.109Z"
   },
   {
    "duration": 53,
    "start_time": "2023-02-16T23:02:24.559Z"
   },
   {
    "duration": 12,
    "start_time": "2023-02-16T23:02:24.614Z"
   },
   {
    "duration": 17,
    "start_time": "2023-02-16T23:02:24.628Z"
   },
   {
    "duration": 14,
    "start_time": "2023-02-16T23:02:24.647Z"
   },
   {
    "duration": 13,
    "start_time": "2023-02-16T23:02:24.662Z"
   },
   {
    "duration": 7,
    "start_time": "2023-02-16T23:02:24.676Z"
   },
   {
    "duration": 13,
    "start_time": "2023-02-16T23:02:24.684Z"
   },
   {
    "duration": 15,
    "start_time": "2023-02-16T23:02:24.698Z"
   },
   {
    "duration": 6,
    "start_time": "2023-02-16T23:02:24.715Z"
   },
   {
    "duration": 7,
    "start_time": "2023-02-16T23:02:24.736Z"
   },
   {
    "duration": 906,
    "start_time": "2023-02-16T23:02:24.745Z"
   },
   {
    "duration": 1342,
    "start_time": "2023-02-16T23:02:53.166Z"
   },
   {
    "duration": 55,
    "start_time": "2023-02-16T23:02:54.510Z"
   },
   {
    "duration": 13,
    "start_time": "2023-02-16T23:02:54.567Z"
   },
   {
    "duration": 10,
    "start_time": "2023-02-16T23:02:54.581Z"
   },
   {
    "duration": 15,
    "start_time": "2023-02-16T23:02:54.593Z"
   },
   {
    "duration": 29,
    "start_time": "2023-02-16T23:02:54.610Z"
   },
   {
    "duration": 8,
    "start_time": "2023-02-16T23:02:54.641Z"
   },
   {
    "duration": 9,
    "start_time": "2023-02-16T23:02:54.651Z"
   },
   {
    "duration": 8,
    "start_time": "2023-02-16T23:02:54.662Z"
   },
   {
    "duration": 7,
    "start_time": "2023-02-16T23:02:54.671Z"
   },
   {
    "duration": 9,
    "start_time": "2023-02-16T23:02:54.680Z"
   },
   {
    "duration": 998,
    "start_time": "2023-02-16T23:02:54.691Z"
   },
   {
    "duration": 1409,
    "start_time": "2023-02-16T23:03:28.606Z"
   },
   {
    "duration": 61,
    "start_time": "2023-02-16T23:03:30.017Z"
   },
   {
    "duration": 13,
    "start_time": "2023-02-16T23:03:30.080Z"
   },
   {
    "duration": 33,
    "start_time": "2023-02-16T23:03:30.094Z"
   },
   {
    "duration": 26,
    "start_time": "2023-02-16T23:03:30.129Z"
   },
   {
    "duration": 24,
    "start_time": "2023-02-16T23:03:30.157Z"
   },
   {
    "duration": 21,
    "start_time": "2023-02-16T23:03:30.183Z"
   },
   {
    "duration": 20,
    "start_time": "2023-02-16T23:03:30.206Z"
   },
   {
    "duration": 10,
    "start_time": "2023-02-16T23:03:30.228Z"
   },
   {
    "duration": 25,
    "start_time": "2023-02-16T23:03:30.239Z"
   },
   {
    "duration": 936,
    "start_time": "2023-02-16T23:03:30.266Z"
   },
   {
    "duration": 4,
    "start_time": "2023-02-16T23:06:38.693Z"
   },
   {
    "duration": 113,
    "start_time": "2023-02-16T23:06:54.036Z"
   },
   {
    "duration": 51,
    "start_time": "2023-02-16T23:10:40.709Z"
   },
   {
    "duration": 115,
    "start_time": "2023-02-16T23:10:50.101Z"
   },
   {
    "duration": 195,
    "start_time": "2023-02-16T23:11:42.631Z"
   },
   {
    "duration": 1728,
    "start_time": "2023-02-17T10:15:54.311Z"
   },
   {
    "duration": 98,
    "start_time": "2023-02-17T10:15:56.041Z"
   },
   {
    "duration": 14,
    "start_time": "2023-02-17T10:15:56.140Z"
   },
   {
    "duration": 7,
    "start_time": "2023-02-17T10:15:56.157Z"
   },
   {
    "duration": 16,
    "start_time": "2023-02-17T10:15:56.166Z"
   },
   {
    "duration": 20,
    "start_time": "2023-02-17T10:15:56.184Z"
   },
   {
    "duration": 12,
    "start_time": "2023-02-17T10:15:56.207Z"
   },
   {
    "duration": 13,
    "start_time": "2023-02-17T10:15:56.222Z"
   },
   {
    "duration": 11,
    "start_time": "2023-02-17T10:15:56.237Z"
   },
   {
    "duration": 44,
    "start_time": "2023-02-17T10:15:56.251Z"
   },
   {
    "duration": 1052,
    "start_time": "2023-02-17T10:15:56.298Z"
   },
   {
    "duration": 111,
    "start_time": "2023-02-17T10:15:57.351Z"
   },
   {
    "duration": 6,
    "start_time": "2023-02-17T10:32:55.324Z"
   },
   {
    "duration": 6,
    "start_time": "2023-02-17T10:34:54.426Z"
   },
   {
    "duration": 5,
    "start_time": "2023-02-17T10:34:55.633Z"
   },
   {
    "duration": 121,
    "start_time": "2023-02-17T10:35:27.560Z"
   },
   {
    "duration": 1478,
    "start_time": "2023-02-17T10:37:12.196Z"
   },
   {
    "duration": 54,
    "start_time": "2023-02-17T10:37:13.676Z"
   },
   {
    "duration": 14,
    "start_time": "2023-02-17T10:37:13.731Z"
   },
   {
    "duration": 12,
    "start_time": "2023-02-17T10:37:13.747Z"
   },
   {
    "duration": 17,
    "start_time": "2023-02-17T10:37:13.761Z"
   },
   {
    "duration": 23,
    "start_time": "2023-02-17T10:37:13.780Z"
   },
   {
    "duration": 7,
    "start_time": "2023-02-17T10:37:13.804Z"
   },
   {
    "duration": 11,
    "start_time": "2023-02-17T10:37:13.813Z"
   },
   {
    "duration": 7,
    "start_time": "2023-02-17T10:37:13.826Z"
   },
   {
    "duration": 11,
    "start_time": "2023-02-17T10:37:13.835Z"
   },
   {
    "duration": 4,
    "start_time": "2023-02-17T10:37:13.848Z"
   },
   {
    "duration": 1073,
    "start_time": "2023-02-17T10:37:13.853Z"
   },
   {
    "duration": 116,
    "start_time": "2023-02-17T10:37:14.927Z"
   },
   {
    "duration": 9,
    "start_time": "2023-02-17T10:37:44.095Z"
   },
   {
    "duration": 1498,
    "start_time": "2023-02-17T10:38:18.209Z"
   },
   {
    "duration": 52,
    "start_time": "2023-02-17T10:38:19.709Z"
   },
   {
    "duration": 15,
    "start_time": "2023-02-17T10:38:19.763Z"
   },
   {
    "duration": 15,
    "start_time": "2023-02-17T10:38:19.780Z"
   },
   {
    "duration": 16,
    "start_time": "2023-02-17T10:38:19.797Z"
   },
   {
    "duration": 13,
    "start_time": "2023-02-17T10:38:19.815Z"
   },
   {
    "duration": 7,
    "start_time": "2023-02-17T10:38:19.830Z"
   },
   {
    "duration": 14,
    "start_time": "2023-02-17T10:38:19.839Z"
   },
   {
    "duration": 7,
    "start_time": "2023-02-17T10:38:19.855Z"
   },
   {
    "duration": 143,
    "start_time": "2023-02-17T10:38:19.864Z"
   },
   {
    "duration": 0,
    "start_time": "2023-02-17T10:38:20.009Z"
   },
   {
    "duration": 0,
    "start_time": "2023-02-17T10:38:20.010Z"
   },
   {
    "duration": 0,
    "start_time": "2023-02-17T10:38:20.012Z"
   },
   {
    "duration": 0,
    "start_time": "2023-02-17T10:38:20.013Z"
   },
   {
    "duration": 1525,
    "start_time": "2023-02-17T10:39:06.163Z"
   },
   {
    "duration": 56,
    "start_time": "2023-02-17T10:39:07.690Z"
   },
   {
    "duration": 13,
    "start_time": "2023-02-17T10:39:07.749Z"
   },
   {
    "duration": 20,
    "start_time": "2023-02-17T10:39:07.764Z"
   },
   {
    "duration": 19,
    "start_time": "2023-02-17T10:39:07.786Z"
   },
   {
    "duration": 15,
    "start_time": "2023-02-17T10:39:07.807Z"
   },
   {
    "duration": 9,
    "start_time": "2023-02-17T10:39:07.823Z"
   },
   {
    "duration": 13,
    "start_time": "2023-02-17T10:39:07.833Z"
   },
   {
    "duration": 7,
    "start_time": "2023-02-17T10:39:07.848Z"
   },
   {
    "duration": 356,
    "start_time": "2023-02-17T10:39:07.858Z"
   },
   {
    "duration": 0,
    "start_time": "2023-02-17T10:39:08.216Z"
   },
   {
    "duration": 0,
    "start_time": "2023-02-17T10:39:08.218Z"
   },
   {
    "duration": 0,
    "start_time": "2023-02-17T10:39:08.219Z"
   },
   {
    "duration": 0,
    "start_time": "2023-02-17T10:39:08.220Z"
   },
   {
    "duration": 26,
    "start_time": "2023-02-17T10:39:29.568Z"
   },
   {
    "duration": 210,
    "start_time": "2023-02-17T10:40:44.770Z"
   },
   {
    "duration": 203,
    "start_time": "2023-02-17T10:41:07.710Z"
   },
   {
    "duration": 26,
    "start_time": "2023-02-17T10:41:09.657Z"
   },
   {
    "duration": 6,
    "start_time": "2023-02-17T10:41:39.671Z"
   },
   {
    "duration": 15,
    "start_time": "2023-02-17T10:43:43.011Z"
   },
   {
    "duration": 210,
    "start_time": "2023-02-17T10:44:00.210Z"
   },
   {
    "duration": 26,
    "start_time": "2023-02-17T10:44:07.595Z"
   },
   {
    "duration": 315,
    "start_time": "2023-02-17T10:44:53.993Z"
   },
   {
    "duration": 32,
    "start_time": "2023-02-17T10:45:01.485Z"
   },
   {
    "duration": 13,
    "start_time": "2023-02-17T10:45:37.604Z"
   },
   {
    "duration": 20,
    "start_time": "2023-02-17T10:45:38.396Z"
   },
   {
    "duration": 20,
    "start_time": "2023-02-17T10:46:16.267Z"
   },
   {
    "duration": 18,
    "start_time": "2023-02-17T10:47:17.788Z"
   },
   {
    "duration": 20,
    "start_time": "2023-02-17T10:47:26.950Z"
   },
   {
    "duration": 17,
    "start_time": "2023-02-17T10:47:33.865Z"
   },
   {
    "duration": 1469,
    "start_time": "2023-02-17T10:48:09.345Z"
   },
   {
    "duration": 118,
    "start_time": "2023-02-17T10:49:27.963Z"
   },
   {
    "duration": 4,
    "start_time": "2023-02-17T11:16:30.288Z"
   },
   {
    "duration": 30,
    "start_time": "2023-02-17T11:19:47.363Z"
   },
   {
    "duration": 15,
    "start_time": "2023-02-17T11:19:56.145Z"
   },
   {
    "duration": 19,
    "start_time": "2023-02-17T11:22:28.380Z"
   },
   {
    "duration": 454,
    "start_time": "2023-02-17T11:23:41.810Z"
   },
   {
    "duration": 82,
    "start_time": "2023-02-17T11:24:39.517Z"
   },
   {
    "duration": 20,
    "start_time": "2023-02-17T11:34:10.599Z"
   },
   {
    "duration": 367,
    "start_time": "2023-02-17T11:34:11.071Z"
   },
   {
    "duration": 87,
    "start_time": "2023-02-17T11:34:11.910Z"
   },
   {
    "duration": 1546,
    "start_time": "2023-02-17T17:31:53.124Z"
   },
   {
    "duration": 181,
    "start_time": "2023-02-17T17:31:54.672Z"
   },
   {
    "duration": 12,
    "start_time": "2023-02-17T17:31:54.854Z"
   },
   {
    "duration": 23,
    "start_time": "2023-02-17T17:31:54.868Z"
   },
   {
    "duration": 14,
    "start_time": "2023-02-17T17:31:55.080Z"
   },
   {
    "duration": 6,
    "start_time": "2023-02-17T17:31:57.358Z"
   },
   {
    "duration": 9,
    "start_time": "2023-02-17T17:32:32.069Z"
   },
   {
    "duration": 3,
    "start_time": "2023-02-17T17:50:00.293Z"
   },
   {
    "duration": 120,
    "start_time": "2023-02-17T17:54:36.384Z"
   },
   {
    "duration": 3188,
    "start_time": "2023-02-17T17:58:00.377Z"
   },
   {
    "duration": 26,
    "start_time": "2023-02-17T17:58:07.034Z"
   },
   {
    "duration": 17,
    "start_time": "2023-02-17T20:03:14.267Z"
   },
   {
    "duration": 90,
    "start_time": "2023-02-17T20:03:25.056Z"
   },
   {
    "duration": 104,
    "start_time": "2023-02-17T20:10:02.891Z"
   },
   {
    "duration": 23,
    "start_time": "2023-02-17T20:10:21.766Z"
   },
   {
    "duration": 23,
    "start_time": "2023-02-17T20:10:45.853Z"
   },
   {
    "duration": 15,
    "start_time": "2023-02-17T20:11:03.722Z"
   },
   {
    "duration": 1988,
    "start_time": "2023-02-17T20:11:13.859Z"
   },
   {
    "duration": 1402,
    "start_time": "2023-02-17T20:11:15.849Z"
   },
   {
    "duration": 55,
    "start_time": "2023-02-17T20:11:17.253Z"
   },
   {
    "duration": 13,
    "start_time": "2023-02-17T20:11:17.309Z"
   },
   {
    "duration": 14,
    "start_time": "2023-02-17T20:11:17.324Z"
   },
   {
    "duration": 13,
    "start_time": "2023-02-17T20:11:17.340Z"
   },
   {
    "duration": 38,
    "start_time": "2023-02-17T20:11:17.355Z"
   },
   {
    "duration": 9,
    "start_time": "2023-02-17T20:11:17.395Z"
   },
   {
    "duration": 152,
    "start_time": "2023-02-17T20:11:17.406Z"
   },
   {
    "duration": 0,
    "start_time": "2023-02-17T20:11:17.560Z"
   },
   {
    "duration": 0,
    "start_time": "2023-02-17T20:11:17.561Z"
   },
   {
    "duration": 0,
    "start_time": "2023-02-17T20:11:17.562Z"
   },
   {
    "duration": 0,
    "start_time": "2023-02-17T20:11:17.563Z"
   },
   {
    "duration": 0,
    "start_time": "2023-02-17T20:11:17.564Z"
   },
   {
    "duration": 0,
    "start_time": "2023-02-17T20:11:17.566Z"
   },
   {
    "duration": 0,
    "start_time": "2023-02-17T20:11:17.567Z"
   },
   {
    "duration": 0,
    "start_time": "2023-02-17T20:11:17.568Z"
   },
   {
    "duration": 22,
    "start_time": "2023-02-17T20:11:28.541Z"
   },
   {
    "duration": 1967,
    "start_time": "2023-02-17T20:11:33.244Z"
   },
   {
    "duration": 1442,
    "start_time": "2023-02-17T20:11:35.215Z"
   },
   {
    "duration": 53,
    "start_time": "2023-02-17T20:11:36.659Z"
   },
   {
    "duration": 20,
    "start_time": "2023-02-17T20:11:36.714Z"
   },
   {
    "duration": 12,
    "start_time": "2023-02-17T20:11:36.737Z"
   },
   {
    "duration": 42,
    "start_time": "2023-02-17T20:11:36.751Z"
   },
   {
    "duration": 10,
    "start_time": "2023-02-17T20:11:36.796Z"
   },
   {
    "duration": 13,
    "start_time": "2023-02-17T20:11:36.808Z"
   },
   {
    "duration": 158,
    "start_time": "2023-02-17T20:11:36.822Z"
   },
   {
    "duration": 0,
    "start_time": "2023-02-17T20:11:36.982Z"
   },
   {
    "duration": 0,
    "start_time": "2023-02-17T20:11:36.984Z"
   },
   {
    "duration": 0,
    "start_time": "2023-02-17T20:11:36.992Z"
   },
   {
    "duration": 0,
    "start_time": "2023-02-17T20:11:36.994Z"
   },
   {
    "duration": 0,
    "start_time": "2023-02-17T20:11:36.996Z"
   },
   {
    "duration": 0,
    "start_time": "2023-02-17T20:11:36.997Z"
   },
   {
    "duration": 0,
    "start_time": "2023-02-17T20:11:36.999Z"
   },
   {
    "duration": 0,
    "start_time": "2023-02-17T20:11:37.000Z"
   },
   {
    "duration": 23,
    "start_time": "2023-02-17T20:12:12.863Z"
   },
   {
    "duration": 2029,
    "start_time": "2023-02-17T20:12:20.385Z"
   },
   {
    "duration": 1425,
    "start_time": "2023-02-17T20:12:22.416Z"
   },
   {
    "duration": 52,
    "start_time": "2023-02-17T20:12:23.844Z"
   },
   {
    "duration": 43,
    "start_time": "2023-02-17T20:12:23.898Z"
   },
   {
    "duration": 47,
    "start_time": "2023-02-17T20:12:23.943Z"
   },
   {
    "duration": 61,
    "start_time": "2023-02-17T20:12:23.993Z"
   },
   {
    "duration": 21,
    "start_time": "2023-02-17T20:12:24.055Z"
   },
   {
    "duration": 38,
    "start_time": "2023-02-17T20:12:24.078Z"
   },
   {
    "duration": 26,
    "start_time": "2023-02-17T20:12:24.118Z"
   },
   {
    "duration": 138,
    "start_time": "2023-02-17T20:12:24.145Z"
   },
   {
    "duration": 0,
    "start_time": "2023-02-17T20:12:24.285Z"
   },
   {
    "duration": 0,
    "start_time": "2023-02-17T20:12:24.287Z"
   },
   {
    "duration": 0,
    "start_time": "2023-02-17T20:12:24.288Z"
   },
   {
    "duration": 0,
    "start_time": "2023-02-17T20:12:24.291Z"
   },
   {
    "duration": 0,
    "start_time": "2023-02-17T20:12:24.292Z"
   },
   {
    "duration": 0,
    "start_time": "2023-02-17T20:12:24.293Z"
   },
   {
    "duration": 0,
    "start_time": "2023-02-17T20:12:24.294Z"
   },
   {
    "duration": 1965,
    "start_time": "2023-02-17T20:12:45.352Z"
   },
   {
    "duration": 1406,
    "start_time": "2023-02-17T20:12:47.319Z"
   },
   {
    "duration": 52,
    "start_time": "2023-02-17T20:12:48.730Z"
   },
   {
    "duration": 14,
    "start_time": "2023-02-17T20:12:48.784Z"
   },
   {
    "duration": 14,
    "start_time": "2023-02-17T20:12:48.801Z"
   },
   {
    "duration": 13,
    "start_time": "2023-02-17T20:12:48.817Z"
   },
   {
    "duration": 12,
    "start_time": "2023-02-17T20:12:48.831Z"
   },
   {
    "duration": 13,
    "start_time": "2023-02-17T20:12:48.845Z"
   },
   {
    "duration": 55,
    "start_time": "2023-02-17T20:12:48.860Z"
   },
   {
    "duration": 14,
    "start_time": "2023-02-17T20:12:48.917Z"
   },
   {
    "duration": 128,
    "start_time": "2023-02-17T20:12:48.933Z"
   },
   {
    "duration": 0,
    "start_time": "2023-02-17T20:12:49.062Z"
   },
   {
    "duration": 0,
    "start_time": "2023-02-17T20:12:49.064Z"
   },
   {
    "duration": 0,
    "start_time": "2023-02-17T20:12:49.065Z"
   },
   {
    "duration": 0,
    "start_time": "2023-02-17T20:12:49.066Z"
   },
   {
    "duration": 0,
    "start_time": "2023-02-17T20:12:49.068Z"
   },
   {
    "duration": 0,
    "start_time": "2023-02-17T20:12:49.069Z"
   },
   {
    "duration": 17,
    "start_time": "2023-02-17T22:45:11.785Z"
   },
   {
    "duration": 2091,
    "start_time": "2023-02-17T22:45:25.619Z"
   },
   {
    "duration": 1442,
    "start_time": "2023-02-17T22:45:27.713Z"
   },
   {
    "duration": 55,
    "start_time": "2023-02-17T22:45:29.157Z"
   },
   {
    "duration": 13,
    "start_time": "2023-02-17T22:45:29.214Z"
   },
   {
    "duration": 21,
    "start_time": "2023-02-17T22:45:29.229Z"
   },
   {
    "duration": 13,
    "start_time": "2023-02-17T22:45:29.251Z"
   },
   {
    "duration": 31,
    "start_time": "2023-02-17T22:45:29.265Z"
   },
   {
    "duration": 16,
    "start_time": "2023-02-17T22:45:29.298Z"
   },
   {
    "duration": 20,
    "start_time": "2023-02-17T22:45:29.316Z"
   },
   {
    "duration": 13,
    "start_time": "2023-02-17T22:45:29.338Z"
   },
   {
    "duration": 135,
    "start_time": "2023-02-17T22:45:29.353Z"
   },
   {
    "duration": 0,
    "start_time": "2023-02-17T22:45:29.490Z"
   },
   {
    "duration": 0,
    "start_time": "2023-02-17T22:45:29.491Z"
   },
   {
    "duration": 0,
    "start_time": "2023-02-17T22:45:29.492Z"
   },
   {
    "duration": 0,
    "start_time": "2023-02-17T22:45:29.493Z"
   },
   {
    "duration": 0,
    "start_time": "2023-02-17T22:45:29.494Z"
   },
   {
    "duration": 0,
    "start_time": "2023-02-17T22:45:29.495Z"
   },
   {
    "duration": 14,
    "start_time": "2023-02-17T22:45:46.163Z"
   },
   {
    "duration": 11,
    "start_time": "2023-02-17T22:46:20.600Z"
   },
   {
    "duration": 2737,
    "start_time": "2023-02-17T22:46:50.967Z"
   },
   {
    "duration": 29,
    "start_time": "2023-02-17T22:46:56.694Z"
   },
   {
    "duration": 16,
    "start_time": "2023-02-17T22:47:03.935Z"
   },
   {
    "duration": 15,
    "start_time": "2023-02-17T22:47:41.138Z"
   },
   {
    "duration": 11,
    "start_time": "2023-02-17T22:47:49.567Z"
   },
   {
    "duration": 605,
    "start_time": "2023-02-17T22:48:46.090Z"
   },
   {
    "duration": 2116,
    "start_time": "2023-02-17T22:48:49.077Z"
   },
   {
    "duration": 2067,
    "start_time": "2023-02-17T22:49:17.740Z"
   },
   {
    "duration": 144,
    "start_time": "2023-02-17T22:51:07.139Z"
   },
   {
    "duration": 4,
    "start_time": "2023-02-17T22:52:58.601Z"
   },
   {
    "duration": 2123,
    "start_time": "2023-02-17T22:58:15.845Z"
   },
   {
    "duration": 2039,
    "start_time": "2023-02-17T22:58:17.972Z"
   },
   {
    "duration": 1462,
    "start_time": "2023-02-17T22:58:20.016Z"
   },
   {
    "duration": 61,
    "start_time": "2023-02-17T22:58:21.481Z"
   },
   {
    "duration": 20,
    "start_time": "2023-02-17T22:58:21.544Z"
   },
   {
    "duration": 21,
    "start_time": "2023-02-17T22:58:21.568Z"
   },
   {
    "duration": 16,
    "start_time": "2023-02-17T22:58:21.590Z"
   },
   {
    "duration": 10,
    "start_time": "2023-02-17T22:58:21.608Z"
   },
   {
    "duration": 12,
    "start_time": "2023-02-17T22:58:21.619Z"
   },
   {
    "duration": 5,
    "start_time": "2023-02-17T22:58:21.633Z"
   },
   {
    "duration": 158,
    "start_time": "2023-02-17T22:58:21.640Z"
   },
   {
    "duration": 0,
    "start_time": "2023-02-17T22:58:21.800Z"
   },
   {
    "duration": 0,
    "start_time": "2023-02-17T22:58:21.802Z"
   },
   {
    "duration": 0,
    "start_time": "2023-02-17T22:58:21.803Z"
   },
   {
    "duration": 0,
    "start_time": "2023-02-17T22:58:21.805Z"
   },
   {
    "duration": 0,
    "start_time": "2023-02-17T22:58:21.806Z"
   },
   {
    "duration": 0,
    "start_time": "2023-02-17T22:58:21.808Z"
   },
   {
    "duration": 0,
    "start_time": "2023-02-17T22:58:21.809Z"
   },
   {
    "duration": 0,
    "start_time": "2023-02-17T22:58:21.811Z"
   },
   {
    "duration": 19,
    "start_time": "2023-02-17T23:00:18.334Z"
   },
   {
    "duration": 19,
    "start_time": "2023-02-17T23:00:40.204Z"
   },
   {
    "duration": 1983,
    "start_time": "2023-02-17T23:00:46.502Z"
   },
   {
    "duration": 2080,
    "start_time": "2023-02-17T23:00:48.488Z"
   },
   {
    "duration": 1508,
    "start_time": "2023-02-17T23:00:50.570Z"
   },
   {
    "duration": 55,
    "start_time": "2023-02-17T23:00:52.080Z"
   },
   {
    "duration": 14,
    "start_time": "2023-02-17T23:00:52.138Z"
   },
   {
    "duration": 25,
    "start_time": "2023-02-17T23:00:52.153Z"
   },
   {
    "duration": 24,
    "start_time": "2023-02-17T23:00:52.180Z"
   },
   {
    "duration": 20,
    "start_time": "2023-02-17T23:00:52.206Z"
   },
   {
    "duration": 28,
    "start_time": "2023-02-17T23:00:52.228Z"
   },
   {
    "duration": 17,
    "start_time": "2023-02-17T23:00:52.258Z"
   },
   {
    "duration": 126,
    "start_time": "2023-02-17T23:00:52.277Z"
   },
   {
    "duration": 0,
    "start_time": "2023-02-17T23:00:52.405Z"
   },
   {
    "duration": 0,
    "start_time": "2023-02-17T23:00:52.406Z"
   },
   {
    "duration": 0,
    "start_time": "2023-02-17T23:00:52.406Z"
   },
   {
    "duration": 0,
    "start_time": "2023-02-17T23:00:52.408Z"
   },
   {
    "duration": 0,
    "start_time": "2023-02-17T23:00:52.409Z"
   },
   {
    "duration": 0,
    "start_time": "2023-02-17T23:00:52.410Z"
   },
   {
    "duration": 0,
    "start_time": "2023-02-17T23:00:52.411Z"
   },
   {
    "duration": 0,
    "start_time": "2023-02-17T23:00:52.412Z"
   },
   {
    "duration": 2116,
    "start_time": "2023-02-17T23:01:09.440Z"
   },
   {
    "duration": 2071,
    "start_time": "2023-02-17T23:01:11.558Z"
   },
   {
    "duration": 1451,
    "start_time": "2023-02-17T23:01:13.631Z"
   },
   {
    "duration": 56,
    "start_time": "2023-02-17T23:01:15.084Z"
   },
   {
    "duration": 20,
    "start_time": "2023-02-17T23:01:15.143Z"
   },
   {
    "duration": 21,
    "start_time": "2023-02-17T23:01:15.165Z"
   },
   {
    "duration": 12,
    "start_time": "2023-02-17T23:01:15.188Z"
   },
   {
    "duration": 17,
    "start_time": "2023-02-17T23:01:15.202Z"
   },
   {
    "duration": 12,
    "start_time": "2023-02-17T23:01:15.221Z"
   },
   {
    "duration": 8,
    "start_time": "2023-02-17T23:01:15.234Z"
   },
   {
    "duration": 131,
    "start_time": "2023-02-17T23:01:15.244Z"
   },
   {
    "duration": 0,
    "start_time": "2023-02-17T23:01:15.377Z"
   },
   {
    "duration": 0,
    "start_time": "2023-02-17T23:01:15.397Z"
   },
   {
    "duration": 0,
    "start_time": "2023-02-17T23:01:15.398Z"
   },
   {
    "duration": 0,
    "start_time": "2023-02-17T23:01:15.399Z"
   },
   {
    "duration": 0,
    "start_time": "2023-02-17T23:01:15.401Z"
   },
   {
    "duration": 0,
    "start_time": "2023-02-17T23:01:15.402Z"
   },
   {
    "duration": 0,
    "start_time": "2023-02-17T23:01:15.403Z"
   },
   {
    "duration": 0,
    "start_time": "2023-02-17T23:01:15.404Z"
   },
   {
    "duration": 2156,
    "start_time": "2023-02-17T23:01:29.401Z"
   },
   {
    "duration": 2157,
    "start_time": "2023-02-17T23:01:31.559Z"
   },
   {
    "duration": 1476,
    "start_time": "2023-02-17T23:01:33.718Z"
   },
   {
    "duration": 57,
    "start_time": "2023-02-17T23:01:35.196Z"
   },
   {
    "duration": 15,
    "start_time": "2023-02-17T23:01:35.255Z"
   },
   {
    "duration": 15,
    "start_time": "2023-02-17T23:01:35.271Z"
   },
   {
    "duration": 13,
    "start_time": "2023-02-17T23:01:35.288Z"
   },
   {
    "duration": 7,
    "start_time": "2023-02-17T23:01:35.303Z"
   },
   {
    "duration": 15,
    "start_time": "2023-02-17T23:01:35.312Z"
   },
   {
    "duration": 10,
    "start_time": "2023-02-17T23:01:35.329Z"
   },
   {
    "duration": 129,
    "start_time": "2023-02-17T23:01:35.341Z"
   },
   {
    "duration": 0,
    "start_time": "2023-02-17T23:01:35.472Z"
   },
   {
    "duration": 0,
    "start_time": "2023-02-17T23:01:35.473Z"
   },
   {
    "duration": 0,
    "start_time": "2023-02-17T23:01:35.475Z"
   },
   {
    "duration": 0,
    "start_time": "2023-02-17T23:01:35.476Z"
   },
   {
    "duration": 0,
    "start_time": "2023-02-17T23:01:35.477Z"
   },
   {
    "duration": 0,
    "start_time": "2023-02-17T23:01:35.492Z"
   },
   {
    "duration": 0,
    "start_time": "2023-02-17T23:01:35.493Z"
   },
   {
    "duration": 0,
    "start_time": "2023-02-17T23:01:35.494Z"
   },
   {
    "duration": 1993,
    "start_time": "2023-02-17T23:07:00.219Z"
   },
   {
    "duration": 1924,
    "start_time": "2023-02-17T23:07:02.215Z"
   },
   {
    "duration": 1452,
    "start_time": "2023-02-17T23:07:04.141Z"
   },
   {
    "duration": 59,
    "start_time": "2023-02-17T23:07:05.595Z"
   },
   {
    "duration": 13,
    "start_time": "2023-02-17T23:07:05.656Z"
   },
   {
    "duration": 17,
    "start_time": "2023-02-17T23:07:05.671Z"
   },
   {
    "duration": 11,
    "start_time": "2023-02-17T23:07:05.690Z"
   },
   {
    "duration": 7,
    "start_time": "2023-02-17T23:07:05.703Z"
   },
   {
    "duration": 9,
    "start_time": "2023-02-17T23:07:05.712Z"
   },
   {
    "duration": 3,
    "start_time": "2023-02-17T23:07:05.722Z"
   },
   {
    "duration": 136,
    "start_time": "2023-02-17T23:07:05.726Z"
   },
   {
    "duration": 0,
    "start_time": "2023-02-17T23:07:05.864Z"
   },
   {
    "duration": 0,
    "start_time": "2023-02-17T23:07:05.865Z"
   },
   {
    "duration": 0,
    "start_time": "2023-02-17T23:07:05.866Z"
   },
   {
    "duration": 0,
    "start_time": "2023-02-17T23:07:05.867Z"
   },
   {
    "duration": 0,
    "start_time": "2023-02-17T23:07:05.868Z"
   },
   {
    "duration": 0,
    "start_time": "2023-02-17T23:07:05.869Z"
   },
   {
    "duration": 0,
    "start_time": "2023-02-17T23:07:05.871Z"
   },
   {
    "duration": 0,
    "start_time": "2023-02-17T23:07:05.872Z"
   },
   {
    "duration": 1965,
    "start_time": "2023-02-17T23:08:31.123Z"
   },
   {
    "duration": 1968,
    "start_time": "2023-02-17T23:08:33.090Z"
   },
   {
    "duration": 1534,
    "start_time": "2023-02-17T23:08:35.062Z"
   },
   {
    "duration": 60,
    "start_time": "2023-02-17T23:08:36.598Z"
   },
   {
    "duration": 15,
    "start_time": "2023-02-17T23:08:36.661Z"
   },
   {
    "duration": 18,
    "start_time": "2023-02-17T23:08:36.678Z"
   },
   {
    "duration": 12,
    "start_time": "2023-02-17T23:08:36.698Z"
   },
   {
    "duration": 11,
    "start_time": "2023-02-17T23:08:36.712Z"
   },
   {
    "duration": 10,
    "start_time": "2023-02-17T23:08:36.724Z"
   },
   {
    "duration": 29,
    "start_time": "2023-02-17T23:08:36.736Z"
   },
   {
    "duration": 3,
    "start_time": "2023-02-17T23:08:36.792Z"
   },
   {
    "duration": 21,
    "start_time": "2023-02-17T23:08:36.797Z"
   },
   {
    "duration": 556,
    "start_time": "2023-02-17T23:08:36.820Z"
   },
   {
    "duration": 2078,
    "start_time": "2023-02-17T23:08:37.379Z"
   },
   {
    "duration": 4,
    "start_time": "2023-02-17T23:08:39.459Z"
   },
   {
    "duration": 184,
    "start_time": "2023-02-17T23:08:39.464Z"
   },
   {
    "duration": 43,
    "start_time": "2023-02-17T23:08:39.649Z"
   },
   {
    "duration": 504,
    "start_time": "2023-02-17T23:08:39.693Z"
   },
   {
    "duration": 94,
    "start_time": "2023-02-17T23:08:40.199Z"
   },
   {
    "duration": 54,
    "start_time": "2023-02-17T23:13:28.643Z"
   },
   {
    "duration": 123,
    "start_time": "2023-02-17T23:13:41.578Z"
   },
   {
    "duration": 16,
    "start_time": "2023-02-17T23:14:00.987Z"
   },
   {
    "duration": 53,
    "start_time": "2023-02-17T23:14:12.512Z"
   },
   {
    "duration": 159310,
    "start_time": "2023-02-17T23:28:22.553Z"
   },
   {
    "duration": 21,
    "start_time": "2023-02-17T23:31:41.474Z"
   },
   {
    "duration": 19,
    "start_time": "2023-02-17T23:31:56.862Z"
   },
   {
    "duration": 364,
    "start_time": "2023-02-17T23:32:31.976Z"
   },
   {
    "duration": 1006624,
    "start_time": "2023-02-17T23:32:35.576Z"
   },
   {
    "duration": 2862,
    "start_time": "2023-02-18T09:59:40.640Z"
   },
   {
    "duration": 2794,
    "start_time": "2023-02-18T09:59:43.505Z"
   },
   {
    "duration": 1783,
    "start_time": "2023-02-18T09:59:46.301Z"
   },
   {
    "duration": 94,
    "start_time": "2023-02-18T09:59:48.086Z"
   },
   {
    "duration": 12,
    "start_time": "2023-02-18T09:59:48.182Z"
   },
   {
    "duration": 21,
    "start_time": "2023-02-18T09:59:48.196Z"
   },
   {
    "duration": 22,
    "start_time": "2023-02-18T09:59:48.219Z"
   },
   {
    "duration": 10,
    "start_time": "2023-02-18T09:59:48.243Z"
   },
   {
    "duration": 12,
    "start_time": "2023-02-18T09:59:48.255Z"
   },
   {
    "duration": 28,
    "start_time": "2023-02-18T09:59:48.271Z"
   },
   {
    "duration": 3,
    "start_time": "2023-02-18T09:59:48.300Z"
   },
   {
    "duration": 15,
    "start_time": "2023-02-18T09:59:48.305Z"
   },
   {
    "duration": 573,
    "start_time": "2023-02-18T09:59:48.321Z"
   },
   {
    "duration": 2129,
    "start_time": "2023-02-18T09:59:48.896Z"
   },
   {
    "duration": 2,
    "start_time": "2023-02-18T09:59:51.027Z"
   },
   {
    "duration": 193,
    "start_time": "2023-02-18T09:59:51.031Z"
   },
   {
    "duration": 233,
    "start_time": "2023-02-18T09:59:51.225Z"
   },
   {
    "duration": 0,
    "start_time": "2023-02-18T09:59:51.460Z"
   },
   {
    "duration": 0,
    "start_time": "2023-02-18T09:59:51.461Z"
   },
   {
    "duration": 167,
    "start_time": "2023-02-18T10:00:47.296Z"
   },
   {
    "duration": 131,
    "start_time": "2023-02-18T10:02:06.048Z"
   },
   {
    "duration": 120,
    "start_time": "2023-02-18T10:02:28.041Z"
   },
   {
    "duration": 283415,
    "start_time": "2023-02-18T10:02:56.669Z"
   },
   {
    "duration": 22,
    "start_time": "2023-02-18T10:46:22.334Z"
   },
   {
    "duration": 155400,
    "start_time": "2023-02-18T10:46:39.813Z"
   },
   {
    "duration": 3,
    "start_time": "2023-02-18T10:57:41.469Z"
   },
   {
    "duration": 3,
    "start_time": "2023-02-18T10:57:48.198Z"
   },
   {
    "duration": 14,
    "start_time": "2023-02-18T10:58:38.374Z"
   },
   {
    "duration": 10,
    "start_time": "2023-02-18T11:01:21.740Z"
   },
   {
    "duration": 11,
    "start_time": "2023-02-18T11:01:32.111Z"
   },
   {
    "duration": 10,
    "start_time": "2023-02-18T11:07:59.870Z"
   },
   {
    "duration": 18,
    "start_time": "2023-02-18T11:08:07.609Z"
   },
   {
    "duration": 20,
    "start_time": "2023-02-18T13:12:30.030Z"
   },
   {
    "duration": 9,
    "start_time": "2023-02-18T13:12:32.827Z"
   },
   {
    "duration": 13,
    "start_time": "2023-02-18T13:13:14.173Z"
   },
   {
    "duration": 20,
    "start_time": "2023-02-18T13:13:46.435Z"
   },
   {
    "duration": 113,
    "start_time": "2023-02-18T13:17:25.493Z"
   },
   {
    "duration": 300046,
    "start_time": "2023-02-18T13:18:14.291Z"
   },
   {
    "duration": 163,
    "start_time": "2023-02-18T13:24:16.610Z"
   },
   {
    "duration": 264,
    "start_time": "2023-02-18T13:24:27.316Z"
   },
   {
    "duration": 13,
    "start_time": "2023-02-18T13:26:34.263Z"
   },
   {
    "duration": 12,
    "start_time": "2023-02-18T13:27:11.016Z"
   },
   {
    "duration": 22,
    "start_time": "2023-02-18T13:28:06.952Z"
   },
   {
    "duration": 94990,
    "start_time": "2023-02-18T13:28:14.437Z"
   },
   {
    "duration": 93,
    "start_time": "2023-02-18T13:29:49.429Z"
   },
   {
    "duration": 314370,
    "start_time": "2023-02-18T13:32:31.435Z"
   },
   {
    "duration": 1684927,
    "start_time": "2023-02-18T13:40:23.094Z"
   },
   {
    "duration": 1675,
    "start_time": "2023-02-18T14:09:43.989Z"
   },
   {
    "duration": 1243,
    "start_time": "2023-02-18T14:10:02.886Z"
   },
   {
    "duration": 1467,
    "start_time": "2023-02-18T14:11:18.420Z"
   },
   {
    "duration": 688629,
    "start_time": "2023-02-18T14:12:35.988Z"
   },
   {
    "duration": 1311,
    "start_time": "2023-02-18T14:24:39.047Z"
   },
   {
    "duration": 3446,
    "start_time": "2023-02-18T16:09:23.563Z"
   },
   {
    "duration": 3124,
    "start_time": "2023-02-18T16:09:27.011Z"
   },
   {
    "duration": 1835,
    "start_time": "2023-02-18T16:09:30.138Z"
   },
   {
    "duration": 240,
    "start_time": "2023-02-18T16:09:31.975Z"
   },
   {
    "duration": 16,
    "start_time": "2023-02-18T16:09:32.218Z"
   },
   {
    "duration": 25,
    "start_time": "2023-02-18T16:09:32.235Z"
   },
   {
    "duration": 12,
    "start_time": "2023-02-18T16:09:32.261Z"
   },
   {
    "duration": 22,
    "start_time": "2023-02-18T16:09:32.275Z"
   },
   {
    "duration": 20,
    "start_time": "2023-02-18T16:09:32.299Z"
   },
   {
    "duration": 24,
    "start_time": "2023-02-18T16:09:32.320Z"
   },
   {
    "duration": 3,
    "start_time": "2023-02-18T16:09:32.345Z"
   },
   {
    "duration": 16,
    "start_time": "2023-02-18T16:09:32.349Z"
   },
   {
    "duration": 569,
    "start_time": "2023-02-18T16:09:32.367Z"
   },
   {
    "duration": 2165,
    "start_time": "2023-02-18T16:09:32.939Z"
   },
   {
    "duration": 3,
    "start_time": "2023-02-18T16:09:35.106Z"
   },
   {
    "duration": 195,
    "start_time": "2023-02-18T16:09:35.110Z"
   },
   {
    "duration": 125,
    "start_time": "2023-02-18T16:09:35.307Z"
   },
   {
    "duration": 169193,
    "start_time": "2023-02-18T16:09:35.435Z"
   },
   {
    "duration": 68,
    "start_time": "2023-02-18T16:12:24.631Z"
   },
   {
    "duration": 107,
    "start_time": "2023-02-18T16:12:24.701Z"
   },
   {
    "duration": 10,
    "start_time": "2023-02-18T16:12:24.811Z"
   },
   {
    "duration": 11,
    "start_time": "2023-02-18T16:12:24.823Z"
   },
   {
    "duration": 14,
    "start_time": "2023-02-18T16:12:24.836Z"
   },
   {
    "duration": 164,
    "start_time": "2023-02-18T16:12:24.852Z"
   },
   {
    "duration": 712490,
    "start_time": "2023-02-18T16:12:25.093Z"
   },
   {
    "duration": 319,
    "start_time": "2023-02-18T16:24:17.585Z"
   },
   {
    "duration": 15,
    "start_time": "2023-02-18T16:24:17.908Z"
   },
   {
    "duration": 15,
    "start_time": "2023-02-18T16:24:17.929Z"
   },
   {
    "duration": 64,
    "start_time": "2023-02-18T16:24:17.946Z"
   },
   {
    "duration": 103127,
    "start_time": "2023-02-18T16:24:18.012Z"
   },
   {
    "duration": 112,
    "start_time": "2023-02-18T16:26:01.140Z"
   },
   {
    "duration": 1278,
    "start_time": "2023-02-18T16:26:01.253Z"
   },
   {
    "duration": 7373,
    "start_time": "2023-02-18T16:58:49.842Z"
   },
   {
    "duration": 124,
    "start_time": "2023-02-18T16:58:57.217Z"
   },
   {
    "duration": 1247,
    "start_time": "2023-02-18T16:59:37.669Z"
   },
   {
    "duration": 115,
    "start_time": "2023-02-18T17:00:02.806Z"
   },
   {
    "duration": 3700,
    "start_time": "2023-02-19T06:05:46.063Z"
   },
   {
    "duration": 2075,
    "start_time": "2023-02-19T06:05:52.508Z"
   },
   {
    "duration": 3026,
    "start_time": "2023-02-19T06:06:04.937Z"
   },
   {
    "duration": 97,
    "start_time": "2023-02-19T06:06:07.966Z"
   },
   {
    "duration": 2331,
    "start_time": "2023-02-19T06:06:19.128Z"
   },
   {
    "duration": 2421,
    "start_time": "2023-02-19T06:06:21.461Z"
   },
   {
    "duration": 4,
    "start_time": "2023-02-19T06:06:23.885Z"
   },
   {
    "duration": 156,
    "start_time": "2023-02-19T06:06:23.891Z"
   },
   {
    "duration": 20,
    "start_time": "2023-02-19T06:06:24.050Z"
   },
   {
    "duration": 18,
    "start_time": "2023-02-19T06:06:24.074Z"
   },
   {
    "duration": 22,
    "start_time": "2023-02-19T06:06:24.095Z"
   },
   {
    "duration": 58,
    "start_time": "2023-02-19T06:06:24.119Z"
   },
   {
    "duration": 12,
    "start_time": "2023-02-19T06:06:24.180Z"
   },
   {
    "duration": 45,
    "start_time": "2023-02-19T06:06:24.194Z"
   },
   {
    "duration": 34,
    "start_time": "2023-02-19T06:06:24.248Z"
   },
   {
    "duration": 31,
    "start_time": "2023-02-19T06:06:24.285Z"
   },
   {
    "duration": 777,
    "start_time": "2023-02-19T06:06:24.322Z"
   },
   {
    "duration": 2634,
    "start_time": "2023-02-19T06:06:25.101Z"
   },
   {
    "duration": 7,
    "start_time": "2023-02-19T06:06:27.742Z"
   },
   {
    "duration": 204,
    "start_time": "2023-02-19T06:06:27.753Z"
   },
   {
    "duration": 35,
    "start_time": "2023-02-19T06:06:46.436Z"
   },
   {
    "duration": 11,
    "start_time": "2023-02-19T06:09:46.982Z"
   },
   {
    "duration": 30,
    "start_time": "2023-02-19T06:09:50.801Z"
   },
   {
    "duration": 10,
    "start_time": "2023-02-19T06:11:01.891Z"
   },
   {
    "duration": 2266,
    "start_time": "2023-02-19T06:11:10.562Z"
   },
   {
    "duration": 2493,
    "start_time": "2023-02-19T06:11:12.830Z"
   },
   {
    "duration": 8,
    "start_time": "2023-02-19T06:11:15.325Z"
   },
   {
    "duration": 114,
    "start_time": "2023-02-19T06:11:15.336Z"
   },
   {
    "duration": 19,
    "start_time": "2023-02-19T06:11:15.452Z"
   },
   {
    "duration": 15,
    "start_time": "2023-02-19T06:11:15.473Z"
   },
   {
    "duration": 21,
    "start_time": "2023-02-19T06:11:15.490Z"
   },
   {
    "duration": 23,
    "start_time": "2023-02-19T06:11:15.517Z"
   },
   {
    "duration": 21,
    "start_time": "2023-02-19T06:11:15.542Z"
   },
   {
    "duration": 21,
    "start_time": "2023-02-19T06:11:15.565Z"
   },
   {
    "duration": 3,
    "start_time": "2023-02-19T06:11:15.587Z"
   },
   {
    "duration": 86,
    "start_time": "2023-02-19T06:11:15.592Z"
   },
   {
    "duration": 0,
    "start_time": "2023-02-19T06:11:15.680Z"
   },
   {
    "duration": 0,
    "start_time": "2023-02-19T06:11:15.681Z"
   },
   {
    "duration": 0,
    "start_time": "2023-02-19T06:11:15.682Z"
   },
   {
    "duration": 0,
    "start_time": "2023-02-19T06:11:15.684Z"
   },
   {
    "duration": 30,
    "start_time": "2023-02-19T06:11:50.332Z"
   },
   {
    "duration": 687,
    "start_time": "2023-02-19T06:11:52.934Z"
   },
   {
    "duration": 2248,
    "start_time": "2023-02-19T06:11:55.075Z"
   },
   {
    "duration": 139,
    "start_time": "2023-02-19T06:12:03.145Z"
   },
   {
    "duration": 20,
    "start_time": "2023-02-19T06:12:09.597Z"
   },
   {
    "duration": 506946,
    "start_time": "2023-02-19T06:12:17.825Z"
   },
   {
    "duration": 963,
    "start_time": "2023-02-19T06:20:44.773Z"
   },
   {
    "duration": 57,
    "start_time": "2023-02-19T09:39:04.408Z"
   },
   {
    "duration": 1669,
    "start_time": "2023-02-19T09:39:10.164Z"
   },
   {
    "duration": 8,
    "start_time": "2023-02-19T09:39:15.104Z"
   },
   {
    "duration": 15,
    "start_time": "2023-02-19T09:39:17.461Z"
   },
   {
    "duration": 162,
    "start_time": "2023-02-19T09:39:24.153Z"
   },
   {
    "duration": 21,
    "start_time": "2023-02-19T09:39:28.509Z"
   },
   {
    "duration": 3718,
    "start_time": "2023-02-19T09:39:48.969Z"
   },
   {
    "duration": 2922,
    "start_time": "2023-02-19T09:39:56.366Z"
   },
   {
    "duration": 393,
    "start_time": "2023-02-19T09:40:00.804Z"
   },
   {
    "duration": 49,
    "start_time": "2023-02-19T09:40:03.862Z"
   },
   {
    "duration": 13,
    "start_time": "2023-02-19T09:40:04.885Z"
   },
   {
    "duration": 16,
    "start_time": "2023-02-19T09:40:05.574Z"
   },
   {
    "duration": 13,
    "start_time": "2023-02-19T09:40:05.788Z"
   },
   {
    "duration": 10,
    "start_time": "2023-02-19T09:40:06.379Z"
   },
   {
    "duration": 12,
    "start_time": "2023-02-19T09:40:09.275Z"
   },
   {
    "duration": 23,
    "start_time": "2023-02-19T09:40:16.394Z"
   },
   {
    "duration": 27,
    "start_time": "2023-02-19T09:40:18.390Z"
   },
   {
    "duration": 37,
    "start_time": "2023-02-19T09:41:04.830Z"
   },
   {
    "duration": 473,
    "start_time": "2023-02-19T09:41:08.784Z"
   },
   {
    "duration": 1936,
    "start_time": "2023-02-19T09:41:09.628Z"
   },
   {
    "duration": 210,
    "start_time": "2023-02-19T09:43:27.569Z"
   },
   {
    "duration": 221,
    "start_time": "2023-02-19T09:43:59.871Z"
   },
   {
    "duration": 184911,
    "start_time": "2023-02-19T09:44:01.401Z"
   },
   {
    "duration": 132,
    "start_time": "2023-02-19T09:47:06.315Z"
   },
   {
    "duration": 52,
    "start_time": "2023-02-19T09:47:06.544Z"
   },
   {
    "duration": 10,
    "start_time": "2023-02-19T09:47:06.597Z"
   },
   {
    "duration": 13,
    "start_time": "2023-02-19T09:47:16.873Z"
   },
   {
    "duration": 29,
    "start_time": "2023-02-19T09:47:23.100Z"
   },
   {
    "duration": 23,
    "start_time": "2023-02-19T09:47:32.271Z"
   },
   {
    "duration": 15,
    "start_time": "2023-02-19T09:47:44.768Z"
   },
   {
    "duration": 139,
    "start_time": "2023-02-19T09:47:48.425Z"
   },
   {
    "duration": 430632,
    "start_time": "2023-02-19T09:47:50.990Z"
   },
   {
    "duration": 176,
    "start_time": "2023-02-19T09:55:01.623Z"
   },
   {
    "duration": 158,
    "start_time": "2023-02-19T09:55:01.800Z"
   },
   {
    "duration": 0,
    "start_time": "2023-02-19T09:55:01.960Z"
   },
   {
    "duration": 0,
    "start_time": "2023-02-19T09:55:01.961Z"
   },
   {
    "duration": 0,
    "start_time": "2023-02-19T09:55:01.964Z"
   },
   {
    "duration": 0,
    "start_time": "2023-02-19T09:55:01.964Z"
   },
   {
    "duration": 22,
    "start_time": "2023-02-19T10:11:35.459Z"
   },
   {
    "duration": 52,
    "start_time": "2023-02-19T10:11:36.885Z"
   },
   {
    "duration": 74995,
    "start_time": "2023-02-19T10:11:37.079Z"
   },
   {
    "duration": 73,
    "start_time": "2023-02-19T10:13:03.281Z"
   },
   {
    "duration": 685,
    "start_time": "2023-02-19T10:13:28.577Z"
   },
   {
    "duration": 13,
    "start_time": "2023-02-19T10:15:01.329Z"
   },
   {
    "duration": 161,
    "start_time": "2023-02-19T10:15:05.605Z"
   },
   {
    "duration": 574417,
    "start_time": "2023-02-19T10:15:07.035Z"
   },
   {
    "duration": 936,
    "start_time": "2023-02-19T10:26:59.778Z"
   },
   {
    "duration": 3289,
    "start_time": "2023-02-20T05:15:14.690Z"
   },
   {
    "duration": 2651,
    "start_time": "2023-02-20T05:15:17.981Z"
   },
   {
    "duration": 1740,
    "start_time": "2023-02-20T05:15:20.633Z"
   },
   {
    "duration": 205,
    "start_time": "2023-02-20T05:15:22.375Z"
   },
   {
    "duration": 14,
    "start_time": "2023-02-20T05:15:22.583Z"
   },
   {
    "duration": 33,
    "start_time": "2023-02-20T05:15:22.599Z"
   },
   {
    "duration": 11,
    "start_time": "2023-02-20T05:15:22.634Z"
   },
   {
    "duration": 7,
    "start_time": "2023-02-20T05:15:22.647Z"
   },
   {
    "duration": 12,
    "start_time": "2023-02-20T05:15:22.656Z"
   },
   {
    "duration": 26,
    "start_time": "2023-02-20T05:15:22.669Z"
   },
   {
    "duration": 22,
    "start_time": "2023-02-20T05:15:22.697Z"
   },
   {
    "duration": 3,
    "start_time": "2023-02-20T05:15:22.720Z"
   },
   {
    "duration": 6,
    "start_time": "2023-02-20T05:15:22.724Z"
   },
   {
    "duration": 30,
    "start_time": "2023-02-20T05:15:22.733Z"
   },
   {
    "duration": 484,
    "start_time": "2023-02-20T05:15:22.764Z"
   },
   {
    "duration": 1767,
    "start_time": "2023-02-20T05:15:23.250Z"
   },
   {
    "duration": 3,
    "start_time": "2023-02-20T05:15:25.019Z"
   },
   {
    "duration": 229,
    "start_time": "2023-02-20T05:15:25.024Z"
   },
   {
    "duration": 178,
    "start_time": "2023-02-20T05:15:25.255Z"
   },
   {
    "duration": 172930,
    "start_time": "2023-02-20T05:15:25.435Z"
   },
   {
    "duration": 30,
    "start_time": "2023-02-20T05:18:18.367Z"
   },
   {
    "duration": 3,
    "start_time": "2023-02-20T05:18:18.399Z"
   },
   {
    "duration": 203,
    "start_time": "2023-02-20T05:18:18.403Z"
   },
   {
    "duration": 5,
    "start_time": "2023-02-20T05:18:18.608Z"
   },
   {
    "duration": 14,
    "start_time": "2023-02-20T05:18:18.614Z"
   },
   {
    "duration": 9,
    "start_time": "2023-02-20T05:18:18.631Z"
   },
   {
    "duration": 145,
    "start_time": "2023-02-20T05:18:18.643Z"
   },
   {
    "duration": 2993,
    "start_time": "2023-02-20T08:22:16.551Z"
   },
   {
    "duration": 3338,
    "start_time": "2023-02-20T08:22:19.547Z"
   },
   {
    "duration": 1812,
    "start_time": "2023-02-20T08:22:22.887Z"
   },
   {
    "duration": 107,
    "start_time": "2023-02-20T08:22:24.700Z"
   },
   {
    "duration": 12,
    "start_time": "2023-02-20T08:22:24.810Z"
   },
   {
    "duration": 22,
    "start_time": "2023-02-20T08:22:24.824Z"
   },
   {
    "duration": 22,
    "start_time": "2023-02-20T08:22:24.847Z"
   },
   {
    "duration": 10,
    "start_time": "2023-02-20T08:22:24.870Z"
   },
   {
    "duration": 9,
    "start_time": "2023-02-20T08:22:24.881Z"
   },
   {
    "duration": 20,
    "start_time": "2023-02-20T08:22:24.891Z"
   },
   {
    "duration": 31,
    "start_time": "2023-02-20T08:22:24.912Z"
   },
   {
    "duration": 15,
    "start_time": "2023-02-20T08:22:24.950Z"
   },
   {
    "duration": 6,
    "start_time": "2023-02-20T08:22:24.967Z"
   },
   {
    "duration": 33,
    "start_time": "2023-02-20T08:22:24.976Z"
   },
   {
    "duration": 455,
    "start_time": "2023-02-20T08:22:25.010Z"
   },
   {
    "duration": 1849,
    "start_time": "2023-02-20T08:22:25.466Z"
   },
   {
    "duration": 2,
    "start_time": "2023-02-20T08:22:27.317Z"
   },
   {
    "duration": 193,
    "start_time": "2023-02-20T08:22:27.320Z"
   },
   {
    "duration": 173,
    "start_time": "2023-02-20T08:22:27.514Z"
   },
   {
    "duration": 182195,
    "start_time": "2023-02-20T08:22:27.688Z"
   },
   {
    "duration": 169,
    "start_time": "2023-02-20T08:25:29.885Z"
   },
   {
    "duration": 84,
    "start_time": "2023-02-20T08:25:30.062Z"
   },
   {
    "duration": 36,
    "start_time": "2023-02-20T08:25:30.148Z"
   },
   {
    "duration": 7,
    "start_time": "2023-02-20T08:25:30.231Z"
   },
   {
    "duration": 73,
    "start_time": "2023-02-20T08:25:30.240Z"
   },
   {
    "duration": 88,
    "start_time": "2023-02-20T08:25:30.315Z"
   },
   {
    "duration": 567527,
    "start_time": "2023-02-20T08:25:30.433Z"
   },
   {
    "duration": 215,
    "start_time": "2023-02-20T08:34:57.962Z"
   },
   {
    "duration": 3,
    "start_time": "2023-02-20T08:34:58.179Z"
   },
   {
    "duration": 15,
    "start_time": "2023-02-20T08:34:58.184Z"
   },
   {
    "duration": 49,
    "start_time": "2023-02-20T08:34:58.201Z"
   },
   {
    "duration": 3222,
    "start_time": "2023-02-20T15:06:46.106Z"
   },
   {
    "duration": 3049,
    "start_time": "2023-02-20T15:06:49.331Z"
   },
   {
    "duration": 1779,
    "start_time": "2023-02-20T15:06:52.382Z"
   },
   {
    "duration": 97,
    "start_time": "2023-02-20T15:06:54.163Z"
   },
   {
    "duration": 13,
    "start_time": "2023-02-20T15:06:54.262Z"
   },
   {
    "duration": 17,
    "start_time": "2023-02-20T15:06:54.276Z"
   },
   {
    "duration": 20,
    "start_time": "2023-02-20T15:06:54.295Z"
   },
   {
    "duration": 15,
    "start_time": "2023-02-20T15:06:54.317Z"
   },
   {
    "duration": 14,
    "start_time": "2023-02-20T15:06:54.333Z"
   },
   {
    "duration": 25,
    "start_time": "2023-02-20T15:06:54.348Z"
   },
   {
    "duration": 32,
    "start_time": "2023-02-20T15:06:54.375Z"
   },
   {
    "duration": 8,
    "start_time": "2023-02-20T15:06:54.409Z"
   },
   {
    "duration": 12,
    "start_time": "2023-02-20T15:06:54.419Z"
   },
   {
    "duration": 32,
    "start_time": "2023-02-20T15:06:54.435Z"
   },
   {
    "duration": 490,
    "start_time": "2023-02-20T15:06:54.469Z"
   },
   {
    "duration": 1873,
    "start_time": "2023-02-20T15:06:54.961Z"
   },
   {
    "duration": 2,
    "start_time": "2023-02-20T15:06:56.836Z"
   },
   {
    "duration": 122,
    "start_time": "2023-02-20T15:06:56.840Z"
   },
   {
    "duration": 182,
    "start_time": "2023-02-20T15:06:56.963Z"
   },
   {
    "duration": 185133,
    "start_time": "2023-02-20T15:06:57.147Z"
   },
   {
    "duration": 115,
    "start_time": "2023-02-20T15:10:02.282Z"
   },
   {
    "duration": 116,
    "start_time": "2023-02-20T15:10:02.399Z"
   },
   {
    "duration": 94,
    "start_time": "2023-02-20T15:10:02.517Z"
   },
   {
    "duration": 539204,
    "start_time": "2023-02-20T15:10:02.613Z"
   },
   {
    "duration": 242,
    "start_time": "2023-02-20T15:19:01.818Z"
   },
   {
    "duration": 15,
    "start_time": "2023-02-20T15:19:02.062Z"
   },
   {
    "duration": 128,
    "start_time": "2023-02-20T15:19:02.079Z"
   },
   {
    "duration": 117142,
    "start_time": "2023-02-20T15:19:02.211Z"
   },
   {
    "duration": 117,
    "start_time": "2023-02-20T15:20:59.355Z"
   },
   {
    "duration": 946,
    "start_time": "2023-02-20T15:20:59.473Z"
   },
   {
    "duration": 898,
    "start_time": "2023-02-20T15:23:33.562Z"
   },
   {
    "duration": 135,
    "start_time": "2023-02-21T16:08:59.020Z"
   }
  ],
  "kernelspec": {
   "display_name": "Python 3 (ipykernel)",
   "language": "python",
   "name": "python3"
  },
  "language_info": {
   "codemirror_mode": {
    "name": "ipython",
    "version": 3
   },
   "file_extension": ".py",
   "mimetype": "text/x-python",
   "name": "python",
   "nbconvert_exporter": "python",
   "pygments_lexer": "ipython3",
   "version": "3.9.5"
  },
  "toc": {
   "base_numbering": 1,
   "nav_menu": {},
   "number_sections": true,
   "sideBar": true,
   "skip_h1_title": true,
   "title_cell": "Содержание",
   "title_sidebar": "Contents",
   "toc_cell": true,
   "toc_position": {
    "height": "calc(100% - 180px)",
    "left": "10px",
    "top": "150px",
    "width": "165px"
   },
   "toc_section_display": true,
   "toc_window_display": true
  }
 },
 "nbformat": 4,
 "nbformat_minor": 2
}
